{
 "cells": [
  {
   "cell_type": "markdown",
   "id": "1bdb03a4-b4b7-4598-afee-9120ea1ad88f",
   "metadata": {},
   "source": [
    "##### Project by **Devesh Tripathi** | email: deveshtripathi18878@gmail.com | GitHub: https://github.com/deveshtripathi007\n"
   ]
  },
  {
   "cell_type": "markdown",
   "id": "b7de8be5-cece-4529-a007-b8050b3566f0",
   "metadata": {},
   "source": [
    "# Problem Stament: \n",
    "In the realm of debt collection, the ability to discern which accounts are statute-barred—thus potentially unrecoverable—holds immense significance. This project endeavors to develop a sophisticated machine-learning model aimed at accurately predicting the probability of successfully collecting debts by meticulously examining the statute-barred status of each account.\r\n",
    "Given a dataset encompassing a multitude of attributes including original creditor information, account IDs, current balances, purchase dates, and a wealth of other pertinent features, the objective is to construct a predictive model that excels in identifying accounts where the statute barred status may influence the likelihood of debt retrieval.\r\n",
    "The focal point of this endeavor centers on the IsStatBarred field ‘Y’ status, which serves as the pivotal target variable for classificion.\n",
    "\n",
    "## Datset Overview:\n",
    "1. EntityID: Unique identifier for each entry.\n",
    "2. OriginalCreditor[Redacted]: Name of the original creditor, with sensitive information redacted.\n",
    "3. AccountID: Unique identifier for the account.\n",
    "4. Current Balance: The current balance of the account.\n",
    "5. DebtLoadPrincipal: The principal amount of the debt load.\n",
    "6. BalanceAtDebtLoad: The balance at the time of debt load.\n",
    "7. PurchasePrice: The price at which the debt was purchased.\n",
    "8. ProductOrDebtType: Type of product or debt.\n",
    "9. CollectionStatus: Status of the debt collection.\n",
    "10. CloseDate: The date when the account was closed.\n",
    "11. Closure Reason: Reason for closing the account.\n",
    "12. InBankruptcy: Indicates if the account is involved in bankruptcy.\n",
    "13. AccountInsolvencyType: Type of insolvency related to the account.\n",
    "14. CustomerInsolvencyType: Type of insolvency related to the customer.\n",
    "15. IsLegal: Indicates if legal action has been taken.\n",
    "16. Interest Rate: Interest rate associated with the debt.\n",
    "17. LastPaymentAmount: Amount of the last payment made.\n",
    "18. LastPaymentMethod: Method used for the last payment.\n",
    "19. NumLiableParties: Number of liable parties associated with the account.\n",
    "20. CustomerAge: Age of the customer.\n",
    "21. NumPhones: Number of phone contacts associated with the customer.\n",
    "22. NumEmails: Number of email contacts associated with the customer.\n",
    "23. NumAddresses: Number of addresses associated with the customer.\n",
    "24. **IsStatBarred**: Indicates if the debt is statute-barred. on"
   ]
  },
  {
   "cell_type": "markdown",
   "id": "288f51b7-e73a-49eb-982d-1b0f650971c8",
   "metadata": {},
   "source": [
    "## Importing Necessary Libraries"
   ]
  },
  {
   "cell_type": "code",
   "execution_count": 4,
   "id": "b5b8cb3f-ab25-4219-be83-62bed192e44b",
   "metadata": {},
   "outputs": [],
   "source": [
    "import numpy as np\n",
    "import pandas as pd\n",
    "import matplotlib.pyplot as plt\n",
    "import seaborn as sns\n",
    "import warnings\n",
    "warnings.filterwarnings('ignore')\n",
    "\n",
    "from sklearn.model_selection import train_test_split \n",
    "from sklearn.preprocessing import StandardScaler, MinMaxScaler, RobustScaler\n",
    "from sklearn.impute import KNNImputer, SimpleImputer\n",
    "from sklearn.pipeline import Pipeline\n",
    "from sklearn.compose import ColumnTransformer\n",
    "from sklearn.preprocessing import OneHotEncoder, LabelEncoder, OrdinalEncoder\n",
    "from sklearn.model_selection import cross_val_score\n",
    "from statistics import mean\n",
    "\n",
    "# models\n",
    "from sklearn.ensemble import RandomForestClassifier, AdaBoostClassifier, GradientBoostingClassifier\n",
    "from sklearn.tree import DecisionTreeClassifier\n",
    "from sklearn.neighbors import KNeighborsClassifier\n",
    "from sklearn.linear_model import LogisticRegression\n",
    "from sklearn.naive_bayes import BernoulliNB\n",
    "from sklearn.svm import SVC\n",
    "\n",
    "# evalution metrics\n",
    "from sklearn.metrics import accuracy_score, precision_score, recall_score, f1_score, roc_auc_score, confusion_matrix, roc_curve"
   ]
  },
  {
   "cell_type": "code",
   "execution_count": 5,
   "id": "64ed9954-7990-4a5e-892b-d9eafb4c4a9d",
   "metadata": {},
   "outputs": [],
   "source": [
    "df= pd.read_excel('Company_x.xlsx')"
   ]
  },
  {
   "cell_type": "code",
   "execution_count": 6,
   "id": "46e95d79-4455-4636-9f91-33ca6d20d1ba",
   "metadata": {},
   "outputs": [
    {
     "data": {
      "text/html": [
       "<div>\n",
       "<style scoped>\n",
       "    .dataframe tbody tr th:only-of-type {\n",
       "        vertical-align: middle;\n",
       "    }\n",
       "\n",
       "    .dataframe tbody tr th {\n",
       "        vertical-align: top;\n",
       "    }\n",
       "\n",
       "    .dataframe thead th {\n",
       "        text-align: right;\n",
       "    }\n",
       "</style>\n",
       "<table border=\"1\" class=\"dataframe\">\n",
       "  <thead>\n",
       "    <tr style=\"text-align: right;\">\n",
       "      <th></th>\n",
       "      <th>EntityID</th>\n",
       "      <th>OriginalCreditor[Redacted]</th>\n",
       "      <th>AccountID</th>\n",
       "      <th>CurrentBalance</th>\n",
       "      <th>DebtLoadPrincipal</th>\n",
       "      <th>Balanaceatdebt_load</th>\n",
       "      <th>PurchasePrice</th>\n",
       "      <th>ProductOrDebtType</th>\n",
       "      <th>CollectionStatus</th>\n",
       "      <th>ClosureReason</th>\n",
       "      <th>...</th>\n",
       "      <th>LastPaymentMethod</th>\n",
       "      <th>NumLiableParties</th>\n",
       "      <th>CustomerAge</th>\n",
       "      <th>NumPhones</th>\n",
       "      <th>NumEmails</th>\n",
       "      <th>NumAddresses</th>\n",
       "      <th>IsStatBarred</th>\n",
       "      <th>Unnamed: 22</th>\n",
       "      <th>Unnamed: 23</th>\n",
       "      <th>Unnamed: 24</th>\n",
       "    </tr>\n",
       "  </thead>\n",
       "  <tbody>\n",
       "    <tr>\n",
       "      <th>0</th>\n",
       "      <td>932</td>\n",
       "      <td>Creditor 1</td>\n",
       "      <td>3677</td>\n",
       "      <td>0.00</td>\n",
       "      <td>1160.20</td>\n",
       "      <td>1160.20</td>\n",
       "      <td>4.22</td>\n",
       "      <td>Other</td>\n",
       "      <td>PAID_IN_FULL</td>\n",
       "      <td>NaN</td>\n",
       "      <td>...</td>\n",
       "      <td>Cheque</td>\n",
       "      <td>1.0</td>\n",
       "      <td>53.0</td>\n",
       "      <td>0</td>\n",
       "      <td>0</td>\n",
       "      <td>1</td>\n",
       "      <td>N</td>\n",
       "      <td>NaN</td>\n",
       "      <td>NaN</td>\n",
       "      <td>NaN</td>\n",
       "    </tr>\n",
       "    <tr>\n",
       "      <th>1</th>\n",
       "      <td>160</td>\n",
       "      <td>Creditor 2</td>\n",
       "      <td>4276</td>\n",
       "      <td>182.90</td>\n",
       "      <td>182.90</td>\n",
       "      <td>182.90</td>\n",
       "      <td>4.22</td>\n",
       "      <td>Other</td>\n",
       "      <td>CANCELLED_WITHDRAWN</td>\n",
       "      <td>NaN</td>\n",
       "      <td>...</td>\n",
       "      <td>NaN</td>\n",
       "      <td>1.0</td>\n",
       "      <td>NaN</td>\n",
       "      <td>0</td>\n",
       "      <td>0</td>\n",
       "      <td>1</td>\n",
       "      <td>Y</td>\n",
       "      <td>NaN</td>\n",
       "      <td>NaN</td>\n",
       "      <td>NaN</td>\n",
       "    </tr>\n",
       "    <tr>\n",
       "      <th>2</th>\n",
       "      <td>932</td>\n",
       "      <td>Creditor 1</td>\n",
       "      <td>8525</td>\n",
       "      <td>0.00</td>\n",
       "      <td>538.57</td>\n",
       "      <td>538.57</td>\n",
       "      <td>4.22</td>\n",
       "      <td>Other</td>\n",
       "      <td>PAID_IN_FULL</td>\n",
       "      <td>NaN</td>\n",
       "      <td>...</td>\n",
       "      <td>Cheque</td>\n",
       "      <td>1.0</td>\n",
       "      <td>NaN</td>\n",
       "      <td>1</td>\n",
       "      <td>0</td>\n",
       "      <td>1</td>\n",
       "      <td>N</td>\n",
       "      <td>NaN</td>\n",
       "      <td>NaN</td>\n",
       "      <td>NaN</td>\n",
       "    </tr>\n",
       "    <tr>\n",
       "      <th>3</th>\n",
       "      <td>160</td>\n",
       "      <td>Creditor 2</td>\n",
       "      <td>9859</td>\n",
       "      <td>8279.50</td>\n",
       "      <td>8279.50</td>\n",
       "      <td>8279.50</td>\n",
       "      <td>4.22</td>\n",
       "      <td>Other</td>\n",
       "      <td>PASSIVE</td>\n",
       "      <td>NaN</td>\n",
       "      <td>...</td>\n",
       "      <td>NaN</td>\n",
       "      <td>1.0</td>\n",
       "      <td>NaN</td>\n",
       "      <td>1</td>\n",
       "      <td>0</td>\n",
       "      <td>1</td>\n",
       "      <td>Y</td>\n",
       "      <td>NaN</td>\n",
       "      <td>NaN</td>\n",
       "      <td>NaN</td>\n",
       "    </tr>\n",
       "    <tr>\n",
       "      <th>4</th>\n",
       "      <td>932</td>\n",
       "      <td>Creditor 1</td>\n",
       "      <td>12807</td>\n",
       "      <td>0.00</td>\n",
       "      <td>523.00</td>\n",
       "      <td>523.00</td>\n",
       "      <td>4.22</td>\n",
       "      <td>Other</td>\n",
       "      <td>PAID_IN_FULL</td>\n",
       "      <td>NaN</td>\n",
       "      <td>...</td>\n",
       "      <td>Cheque</td>\n",
       "      <td>1.0</td>\n",
       "      <td>46.0</td>\n",
       "      <td>2</td>\n",
       "      <td>0</td>\n",
       "      <td>1</td>\n",
       "      <td>Y</td>\n",
       "      <td>NaN</td>\n",
       "      <td>NaN</td>\n",
       "      <td>NaN</td>\n",
       "    </tr>\n",
       "    <tr>\n",
       "      <th>5</th>\n",
       "      <td>932</td>\n",
       "      <td>Creditor 1</td>\n",
       "      <td>13465</td>\n",
       "      <td>1118.74</td>\n",
       "      <td>790.30</td>\n",
       "      <td>790.30</td>\n",
       "      <td>4.22</td>\n",
       "      <td>Other</td>\n",
       "      <td>PASSIVE</td>\n",
       "      <td>NaN</td>\n",
       "      <td>...</td>\n",
       "      <td>Cheque</td>\n",
       "      <td>1.0</td>\n",
       "      <td>NaN</td>\n",
       "      <td>0</td>\n",
       "      <td>0</td>\n",
       "      <td>1</td>\n",
       "      <td>Y</td>\n",
       "      <td>NaN</td>\n",
       "      <td>NaN</td>\n",
       "      <td>NaN</td>\n",
       "    </tr>\n",
       "    <tr>\n",
       "      <th>6</th>\n",
       "      <td>932</td>\n",
       "      <td>Creditor 1</td>\n",
       "      <td>18664</td>\n",
       "      <td>0.00</td>\n",
       "      <td>71.89</td>\n",
       "      <td>71.89</td>\n",
       "      <td>4.22</td>\n",
       "      <td>Other</td>\n",
       "      <td>PAID_IN_FULL</td>\n",
       "      <td>NaN</td>\n",
       "      <td>...</td>\n",
       "      <td>Cheque</td>\n",
       "      <td>1.0</td>\n",
       "      <td>50.0</td>\n",
       "      <td>2</td>\n",
       "      <td>0</td>\n",
       "      <td>1</td>\n",
       "      <td>N</td>\n",
       "      <td>NaN</td>\n",
       "      <td>NaN</td>\n",
       "      <td>NaN</td>\n",
       "    </tr>\n",
       "    <tr>\n",
       "      <th>7</th>\n",
       "      <td>160</td>\n",
       "      <td>Creditor 2</td>\n",
       "      <td>18816</td>\n",
       "      <td>0.00</td>\n",
       "      <td>11091.35</td>\n",
       "      <td>11091.35</td>\n",
       "      <td>4.22</td>\n",
       "      <td>Other</td>\n",
       "      <td>PAID_IN_FULL</td>\n",
       "      <td>NaN</td>\n",
       "      <td>...</td>\n",
       "      <td>Cheque</td>\n",
       "      <td>1.0</td>\n",
       "      <td>NaN</td>\n",
       "      <td>1</td>\n",
       "      <td>0</td>\n",
       "      <td>1</td>\n",
       "      <td>N</td>\n",
       "      <td>NaN</td>\n",
       "      <td>NaN</td>\n",
       "      <td>NaN</td>\n",
       "    </tr>\n",
       "    <tr>\n",
       "      <th>8</th>\n",
       "      <td>932</td>\n",
       "      <td>Creditor 1</td>\n",
       "      <td>21091</td>\n",
       "      <td>481.34</td>\n",
       "      <td>404.67</td>\n",
       "      <td>404.67</td>\n",
       "      <td>4.22</td>\n",
       "      <td>Other</td>\n",
       "      <td>CLOSED</td>\n",
       "      <td>Insolvent</td>\n",
       "      <td>...</td>\n",
       "      <td>Cheque</td>\n",
       "      <td>1.0</td>\n",
       "      <td>NaN</td>\n",
       "      <td>1</td>\n",
       "      <td>0</td>\n",
       "      <td>0</td>\n",
       "      <td>Y</td>\n",
       "      <td>NaN</td>\n",
       "      <td>NaN</td>\n",
       "      <td>NaN</td>\n",
       "    </tr>\n",
       "    <tr>\n",
       "      <th>9</th>\n",
       "      <td>932</td>\n",
       "      <td>Creditor 1</td>\n",
       "      <td>24413</td>\n",
       "      <td>0.00</td>\n",
       "      <td>903.76</td>\n",
       "      <td>903.76</td>\n",
       "      <td>4.22</td>\n",
       "      <td>Other</td>\n",
       "      <td>PAID_IN_FULL</td>\n",
       "      <td>NaN</td>\n",
       "      <td>...</td>\n",
       "      <td>Cheque</td>\n",
       "      <td>1.0</td>\n",
       "      <td>46.0</td>\n",
       "      <td>1</td>\n",
       "      <td>0</td>\n",
       "      <td>1</td>\n",
       "      <td>N</td>\n",
       "      <td>NaN</td>\n",
       "      <td>NaN</td>\n",
       "      <td>NaN</td>\n",
       "    </tr>\n",
       "  </tbody>\n",
       "</table>\n",
       "<p>10 rows × 25 columns</p>\n",
       "</div>"
      ],
      "text/plain": [
       "   EntityID OriginalCreditor[Redacted]  AccountID  CurrentBalance  \\\n",
       "0       932                 Creditor 1       3677            0.00   \n",
       "1       160                 Creditor 2       4276          182.90   \n",
       "2       932                 Creditor 1       8525            0.00   \n",
       "3       160                 Creditor 2       9859         8279.50   \n",
       "4       932                 Creditor 1      12807            0.00   \n",
       "5       932                 Creditor 1      13465         1118.74   \n",
       "6       932                 Creditor 1      18664            0.00   \n",
       "7       160                 Creditor 2      18816            0.00   \n",
       "8       932                 Creditor 1      21091          481.34   \n",
       "9       932                 Creditor 1      24413            0.00   \n",
       "\n",
       "   DebtLoadPrincipal  Balanaceatdebt_load  PurchasePrice ProductOrDebtType  \\\n",
       "0            1160.20              1160.20           4.22             Other   \n",
       "1             182.90               182.90           4.22             Other   \n",
       "2             538.57               538.57           4.22             Other   \n",
       "3            8279.50              8279.50           4.22             Other   \n",
       "4             523.00               523.00           4.22             Other   \n",
       "5             790.30               790.30           4.22             Other   \n",
       "6              71.89                71.89           4.22             Other   \n",
       "7           11091.35             11091.35           4.22             Other   \n",
       "8             404.67               404.67           4.22             Other   \n",
       "9             903.76               903.76           4.22             Other   \n",
       "\n",
       "      CollectionStatus ClosureReason  ... LastPaymentMethod NumLiableParties  \\\n",
       "0         PAID_IN_FULL           NaN  ...            Cheque              1.0   \n",
       "1  CANCELLED_WITHDRAWN           NaN  ...               NaN              1.0   \n",
       "2         PAID_IN_FULL           NaN  ...            Cheque              1.0   \n",
       "3              PASSIVE           NaN  ...               NaN              1.0   \n",
       "4         PAID_IN_FULL           NaN  ...            Cheque              1.0   \n",
       "5              PASSIVE           NaN  ...            Cheque              1.0   \n",
       "6         PAID_IN_FULL           NaN  ...            Cheque              1.0   \n",
       "7         PAID_IN_FULL           NaN  ...            Cheque              1.0   \n",
       "8               CLOSED     Insolvent  ...            Cheque              1.0   \n",
       "9         PAID_IN_FULL           NaN  ...            Cheque              1.0   \n",
       "\n",
       "  CustomerAge NumPhones  NumEmails NumAddresses  IsStatBarred  Unnamed: 22  \\\n",
       "0        53.0         0          0            1             N          NaN   \n",
       "1         NaN         0          0            1             Y          NaN   \n",
       "2         NaN         1          0            1             N          NaN   \n",
       "3         NaN         1          0            1             Y          NaN   \n",
       "4        46.0         2          0            1             Y          NaN   \n",
       "5         NaN         0          0            1             Y          NaN   \n",
       "6        50.0         2          0            1             N          NaN   \n",
       "7         NaN         1          0            1             N          NaN   \n",
       "8         NaN         1          0            0             Y          NaN   \n",
       "9        46.0         1          0            1             N          NaN   \n",
       "\n",
       "   Unnamed: 23  Unnamed: 24  \n",
       "0          NaN          NaN  \n",
       "1          NaN          NaN  \n",
       "2          NaN          NaN  \n",
       "3          NaN          NaN  \n",
       "4          NaN          NaN  \n",
       "5          NaN          NaN  \n",
       "6          NaN          NaN  \n",
       "7          NaN          NaN  \n",
       "8          NaN          NaN  \n",
       "9          NaN          NaN  \n",
       "\n",
       "[10 rows x 25 columns]"
      ]
     },
     "execution_count": 6,
     "metadata": {},
     "output_type": "execute_result"
    }
   ],
   "source": [
    "df.head(10)"
   ]
  },
  {
   "cell_type": "code",
   "execution_count": 7,
   "id": "3817cb20-3d92-4c8e-84ad-f81bea7a99f8",
   "metadata": {},
   "outputs": [
    {
     "name": "stdout",
     "output_type": "stream",
     "text": [
      "<class 'pandas.core.frame.DataFrame'>\n",
      "RangeIndex: 406423 entries, 0 to 406422\n",
      "Data columns (total 25 columns):\n",
      " #   Column                      Non-Null Count   Dtype  \n",
      "---  ------                      --------------   -----  \n",
      " 0   EntityID                    406423 non-null  int64  \n",
      " 1   OriginalCreditor[Redacted]  406423 non-null  object \n",
      " 2   AccountID                   406423 non-null  int64  \n",
      " 3   CurrentBalance              406423 non-null  float64\n",
      " 4   DebtLoadPrincipal           406423 non-null  float64\n",
      " 5   Balanaceatdebt_load         406423 non-null  float64\n",
      " 6   PurchasePrice               403731 non-null  float64\n",
      " 7   ProductOrDebtType           406423 non-null  object \n",
      " 8   CollectionStatus            406423 non-null  object \n",
      " 9   ClosureReason               9030 non-null    object \n",
      " 10  InBankruptcy                406423 non-null  object \n",
      " 11  AccountInsolvencyType       285 non-null     object \n",
      " 12  CustomerInsolvencyType      8531 non-null    object \n",
      " 13  IsLegal                     406423 non-null  object \n",
      " 14  LastPaymentAmount           103977 non-null  float64\n",
      " 15  LastPaymentMethod           103977 non-null  object \n",
      " 16  NumLiableParties            406301 non-null  float64\n",
      " 17  CustomerAge                 376941 non-null  float64\n",
      " 18  NumPhones                   406423 non-null  int64  \n",
      " 19  NumEmails                   406423 non-null  int64  \n",
      " 20  NumAddresses                406423 non-null  int64  \n",
      " 21  IsStatBarred                406423 non-null  object \n",
      " 22  Unnamed: 22                 0 non-null       float64\n",
      " 23  Unnamed: 23                 0 non-null       float64\n",
      " 24  Unnamed: 24                 1 non-null       float64\n",
      "dtypes: float64(10), int64(5), object(10)\n",
      "memory usage: 77.5+ MB\n"
     ]
    }
   ],
   "source": [
    "df.info()"
   ]
  },
  {
   "cell_type": "markdown",
   "id": "e4d38c56-8218-4448-9f17-539f2c1b9737",
   "metadata": {},
   "source": [
    "## Checking Duplicated Data"
   ]
  },
  {
   "cell_type": "code",
   "execution_count": 9,
   "id": "d11aa638-e24c-4d1a-8b13-84f274b6826e",
   "metadata": {},
   "outputs": [
    {
     "data": {
      "text/plain": [
       "0"
      ]
     },
     "execution_count": 9,
     "metadata": {},
     "output_type": "execute_result"
    }
   ],
   "source": [
    "# Checking for duplicate data on the basis of 'AccountID' as its unique for each debitor\n",
    "df['AccountID'].duplicated().sum()"
   ]
  },
  {
   "cell_type": "code",
   "execution_count": 10,
   "id": "de2268af-4c58-4e76-8c41-9bd095dda4ac",
   "metadata": {},
   "outputs": [
    {
     "data": {
      "text/plain": [
       "EntityID                         229\n",
       "OriginalCreditor[Redacted]        52\n",
       "AccountID                     406423\n",
       "CurrentBalance                177653\n",
       "DebtLoadPrincipal             195921\n",
       "Balanaceatdebt_load           198413\n",
       "PurchasePrice                     48\n",
       "ProductOrDebtType                 10\n",
       "CollectionStatus                  12\n",
       "ClosureReason                     14\n",
       "InBankruptcy                       2\n",
       "AccountInsolvencyType              5\n",
       "CustomerInsolvencyType            13\n",
       "IsLegal                            2\n",
       "LastPaymentAmount              25874\n",
       "LastPaymentMethod                  9\n",
       "NumLiableParties                   4\n",
       "CustomerAge                      126\n",
       "NumPhones                          9\n",
       "NumEmails                          6\n",
       "NumAddresses                       8\n",
       "IsStatBarred                       2\n",
       "Unnamed: 22                        0\n",
       "Unnamed: 23                        0\n",
       "Unnamed: 24                        1\n",
       "dtype: int64"
      ]
     },
     "execution_count": 10,
     "metadata": {},
     "output_type": "execute_result"
    }
   ],
   "source": [
    "df.nunique()\n",
    "# we can see that 'AccountID' has all unique row i.e 406423"
   ]
  },
  {
   "cell_type": "markdown",
   "id": "8e9458cf-025f-4bec-a165-f56cb617c9bd",
   "metadata": {},
   "source": [
    "## Checking Data Imbalance in Target Feature"
   ]
  },
  {
   "cell_type": "code",
   "execution_count": 12,
   "id": "33d5ceaa-e8f1-4ec3-9a93-9338d6158d03",
   "metadata": {},
   "outputs": [
    {
     "data": {
      "text/plain": [
       "IsStatBarred\n",
       "Y    284548\n",
       "N    121875\n",
       "Name: count, dtype: int64"
      ]
     },
     "execution_count": 12,
     "metadata": {},
     "output_type": "execute_result"
    }
   ],
   "source": [
    "df.IsStatBarred.value_counts()"
   ]
  },
  {
   "cell_type": "code",
   "execution_count": 13,
   "id": "005739c9-965f-417a-b7c0-ad7852b1b92a",
   "metadata": {},
   "outputs": [
    {
     "data": {
      "text/plain": [
       "<Figure size 1500x500 with 0 Axes>"
      ]
     },
     "metadata": {},
     "output_type": "display_data"
    },
    {
     "data": {
      "image/png": "[encoded data removed]",
      "text/plain": [
       "<Figure size 511.111x500 with 1 Axes>"
      ]
     },
     "metadata": {},
     "output_type": "display_data"
    }
   ],
   "source": [
    "plt.figure(figsize=(15,5))\n",
    "sns.catplot(data=df, x=\"IsStatBarred\", kind=\"count\")\n",
    "plt.show()"
   ]
  },
  {
   "cell_type": "code",
   "execution_count": 14,
   "id": "454d2543-bd22-490c-afa8-95dbace8f659",
   "metadata": {},
   "outputs": [
    {
     "data": {
      "text/plain": [
       "29.987230053417253"
      ]
     },
     "execution_count": 14,
     "metadata": {},
     "output_type": "execute_result"
    }
   ],
   "source": [
    "# minority class('N')%\n",
    "(121875/(121875+284548))*100"
   ]
  },
  {
   "cell_type": "markdown",
   "id": "85285b24-1374-4fbc-a3d9-e284c432d30e",
   "metadata": {},
   "source": [
    "## Splitting Data into Feature & Target"
   ]
  },
  {
   "cell_type": "code",
   "execution_count": 16,
   "id": "7b19f464-73dd-46d5-85db-f2c6a2f24ca3",
   "metadata": {},
   "outputs": [],
   "source": [
    "# train test split\n",
    "x = df.drop('IsStatBarred', axis=1)\n",
    "y= df['IsStatBarred']"
   ]
  },
  {
   "cell_type": "code",
   "execution_count": 17,
   "id": "745ff9f3-fe84-4693-9aeb-0c07a7d787c4",
   "metadata": {},
   "outputs": [
    {
     "data": {
      "text/plain": [
       "0         0\n",
       "1         1\n",
       "2         0\n",
       "3         1\n",
       "4         1\n",
       "         ..\n",
       "406418    0\n",
       "406419    0\n",
       "406420    0\n",
       "406421    0\n",
       "406422    0\n",
       "Name: IsStatBarred, Length: 406423, dtype: int64"
      ]
     },
     "execution_count": 17,
     "metadata": {},
     "output_type": "execute_result"
    }
   ],
   "source": [
    "y = y.replace({\"Y\":1, \"N\":0})\n",
    "y"
   ]
  },
  {
   "cell_type": "markdown",
   "id": "3500c1c5-b317-474b-8507-7c84edd29e1e",
   "metadata": {},
   "source": [
    "## Train Test Split"
   ]
  },
  {
   "cell_type": "code",
   "execution_count": 19,
   "id": "fbc7c91b-0922-446a-a1a5-9f97c0ea1d79",
   "metadata": {},
   "outputs": [],
   "source": [
    "xtrain, xtest, ytrain, ytest = train_test_split(x, y, test_size=0.2, random_state=45) "
   ]
  },
  {
   "cell_type": "code",
   "execution_count": 20,
   "id": "f7b2c887-cf5f-4ecb-99e6-156b301d603e",
   "metadata": {},
   "outputs": [
    {
     "data": {
      "text/html": [
       "<div>\n",
       "<style scoped>\n",
       "    .dataframe tbody tr th:only-of-type {\n",
       "        vertical-align: middle;\n",
       "    }\n",
       "\n",
       "    .dataframe tbody tr th {\n",
       "        vertical-align: top;\n",
       "    }\n",
       "\n",
       "    .dataframe thead th {\n",
       "        text-align: right;\n",
       "    }\n",
       "</style>\n",
       "<table border=\"1\" class=\"dataframe\">\n",
       "  <thead>\n",
       "    <tr style=\"text-align: right;\">\n",
       "      <th></th>\n",
       "      <th>EntityID</th>\n",
       "      <th>OriginalCreditor[Redacted]</th>\n",
       "      <th>AccountID</th>\n",
       "      <th>CurrentBalance</th>\n",
       "      <th>DebtLoadPrincipal</th>\n",
       "      <th>Balanaceatdebt_load</th>\n",
       "      <th>PurchasePrice</th>\n",
       "      <th>ProductOrDebtType</th>\n",
       "      <th>CollectionStatus</th>\n",
       "      <th>ClosureReason</th>\n",
       "      <th>...</th>\n",
       "      <th>LastPaymentAmount</th>\n",
       "      <th>LastPaymentMethod</th>\n",
       "      <th>NumLiableParties</th>\n",
       "      <th>CustomerAge</th>\n",
       "      <th>NumPhones</th>\n",
       "      <th>NumEmails</th>\n",
       "      <th>NumAddresses</th>\n",
       "      <th>Unnamed: 22</th>\n",
       "      <th>Unnamed: 23</th>\n",
       "      <th>Unnamed: 24</th>\n",
       "    </tr>\n",
       "  </thead>\n",
       "  <tbody>\n",
       "    <tr>\n",
       "      <th>275365</th>\n",
       "      <td>99901180</td>\n",
       "      <td>Creditor 44</td>\n",
       "      <td>990102897</td>\n",
       "      <td>0.00</td>\n",
       "      <td>3046.20</td>\n",
       "      <td>3046.20</td>\n",
       "      <td>8.15</td>\n",
       "      <td>Credit Cards</td>\n",
       "      <td>PAID_IN_FULL</td>\n",
       "      <td>NaN</td>\n",
       "      <td>...</td>\n",
       "      <td>151.0</td>\n",
       "      <td>Automatic Payment</td>\n",
       "      <td>1.0</td>\n",
       "      <td>29.0</td>\n",
       "      <td>2</td>\n",
       "      <td>0</td>\n",
       "      <td>1</td>\n",
       "      <td>NaN</td>\n",
       "      <td>NaN</td>\n",
       "      <td>NaN</td>\n",
       "    </tr>\n",
       "    <tr>\n",
       "      <th>43483</th>\n",
       "      <td>3010601</td>\n",
       "      <td>Creditor 17</td>\n",
       "      <td>30172750</td>\n",
       "      <td>15.08</td>\n",
       "      <td>15.08</td>\n",
       "      <td>15.08</td>\n",
       "      <td>3.07</td>\n",
       "      <td>Utilities/Telco - Other</td>\n",
       "      <td>PASSIVE</td>\n",
       "      <td>NaN</td>\n",
       "      <td>...</td>\n",
       "      <td>NaN</td>\n",
       "      <td>NaN</td>\n",
       "      <td>1.0</td>\n",
       "      <td>NaN</td>\n",
       "      <td>0</td>\n",
       "      <td>0</td>\n",
       "      <td>1</td>\n",
       "      <td>NaN</td>\n",
       "      <td>NaN</td>\n",
       "      <td>NaN</td>\n",
       "    </tr>\n",
       "    <tr>\n",
       "      <th>390442</th>\n",
       "      <td>99901481</td>\n",
       "      <td>Creditor 49</td>\n",
       "      <td>990377685</td>\n",
       "      <td>462.15</td>\n",
       "      <td>462.15</td>\n",
       "      <td>462.15</td>\n",
       "      <td>9.41</td>\n",
       "      <td>Finance Company - Other</td>\n",
       "      <td>PASSIVE</td>\n",
       "      <td>NaN</td>\n",
       "      <td>...</td>\n",
       "      <td>NaN</td>\n",
       "      <td>NaN</td>\n",
       "      <td>1.0</td>\n",
       "      <td>44.0</td>\n",
       "      <td>3</td>\n",
       "      <td>1</td>\n",
       "      <td>1</td>\n",
       "      <td>NaN</td>\n",
       "      <td>NaN</td>\n",
       "      <td>NaN</td>\n",
       "    </tr>\n",
       "    <tr>\n",
       "      <th>211215</th>\n",
       "      <td>3011037</td>\n",
       "      <td>Creditor 41</td>\n",
       "      <td>30463021</td>\n",
       "      <td>447.52</td>\n",
       "      <td>405.93</td>\n",
       "      <td>405.93</td>\n",
       "      <td>1.84</td>\n",
       "      <td>Other</td>\n",
       "      <td>ACTIVE</td>\n",
       "      <td>NaN</td>\n",
       "      <td>...</td>\n",
       "      <td>NaN</td>\n",
       "      <td>NaN</td>\n",
       "      <td>1.0</td>\n",
       "      <td>61.0</td>\n",
       "      <td>0</td>\n",
       "      <td>0</td>\n",
       "      <td>1</td>\n",
       "      <td>NaN</td>\n",
       "      <td>NaN</td>\n",
       "      <td>NaN</td>\n",
       "    </tr>\n",
       "    <tr>\n",
       "      <th>128999</th>\n",
       "      <td>3010718</td>\n",
       "      <td>Creditor 10</td>\n",
       "      <td>30262842</td>\n",
       "      <td>1298.87</td>\n",
       "      <td>970.77</td>\n",
       "      <td>1183.87</td>\n",
       "      <td>4.96</td>\n",
       "      <td>Other</td>\n",
       "      <td>PASSIVE</td>\n",
       "      <td>NaN</td>\n",
       "      <td>...</td>\n",
       "      <td>NaN</td>\n",
       "      <td>NaN</td>\n",
       "      <td>1.0</td>\n",
       "      <td>43.0</td>\n",
       "      <td>0</td>\n",
       "      <td>0</td>\n",
       "      <td>1</td>\n",
       "      <td>NaN</td>\n",
       "      <td>NaN</td>\n",
       "      <td>NaN</td>\n",
       "    </tr>\n",
       "  </tbody>\n",
       "</table>\n",
       "<p>5 rows × 24 columns</p>\n",
       "</div>"
      ],
      "text/plain": [
       "        EntityID OriginalCreditor[Redacted]  AccountID  CurrentBalance  \\\n",
       "275365  99901180                Creditor 44  990102897            0.00   \n",
       "43483    3010601                Creditor 17   30172750           15.08   \n",
       "390442  99901481                Creditor 49  990377685          462.15   \n",
       "211215   3011037                Creditor 41   30463021          447.52   \n",
       "128999   3010718                Creditor 10   30262842         1298.87   \n",
       "\n",
       "        DebtLoadPrincipal  Balanaceatdebt_load  PurchasePrice  \\\n",
       "275365            3046.20              3046.20           8.15   \n",
       "43483               15.08                15.08           3.07   \n",
       "390442             462.15               462.15           9.41   \n",
       "211215             405.93               405.93           1.84   \n",
       "128999             970.77              1183.87           4.96   \n",
       "\n",
       "              ProductOrDebtType CollectionStatus ClosureReason  ...  \\\n",
       "275365             Credit Cards     PAID_IN_FULL           NaN  ...   \n",
       "43483   Utilities/Telco - Other          PASSIVE           NaN  ...   \n",
       "390442  Finance Company - Other          PASSIVE           NaN  ...   \n",
       "211215                    Other           ACTIVE           NaN  ...   \n",
       "128999                    Other          PASSIVE           NaN  ...   \n",
       "\n",
       "       LastPaymentAmount  LastPaymentMethod NumLiableParties CustomerAge  \\\n",
       "275365             151.0  Automatic Payment              1.0        29.0   \n",
       "43483                NaN                NaN              1.0         NaN   \n",
       "390442               NaN                NaN              1.0        44.0   \n",
       "211215               NaN                NaN              1.0        61.0   \n",
       "128999               NaN                NaN              1.0        43.0   \n",
       "\n",
       "        NumPhones NumEmails  NumAddresses  Unnamed: 22  Unnamed: 23  \\\n",
       "275365          2         0             1          NaN          NaN   \n",
       "43483           0         0             1          NaN          NaN   \n",
       "390442          3         1             1          NaN          NaN   \n",
       "211215          0         0             1          NaN          NaN   \n",
       "128999          0         0             1          NaN          NaN   \n",
       "\n",
       "        Unnamed: 24  \n",
       "275365          NaN  \n",
       "43483           NaN  \n",
       "390442          NaN  \n",
       "211215          NaN  \n",
       "128999          NaN  \n",
       "\n",
       "[5 rows x 24 columns]"
      ]
     },
     "execution_count": 20,
     "metadata": {},
     "output_type": "execute_result"
    }
   ],
   "source": [
    "xtrain.head()"
   ]
  },
  {
   "cell_type": "code",
   "execution_count": 21,
   "id": "e571a877-efde-473e-bbba-7d3b72961c6a",
   "metadata": {},
   "outputs": [],
   "source": [
    "# Calculating numerical_column, numerical_column_index, categorical_column, categorical_column_index\n",
    "\n",
    "def CloumnsByDtype(df):\n",
    "    ''' \n",
    "    CloumnsByDtype(df)-> Print and return list of column on the basis of datatype i.e Numerical Column and Categorical Column.\n",
    "    Parameter:\n",
    "        df:- pandas dataframe \n",
    "    '''\n",
    "\n",
    "    numerical_column = []\n",
    "    numerical_column_index = []\n",
    "\n",
    "    categorical_column = []\n",
    "    categorical_column_index = []\n",
    "\n",
    "    for feature in df.columns:\n",
    "        if df[feature].dtype != \"O\":\n",
    "            numerical_column.append(feature)\n",
    "            numerical_column_index.append(df.columns.get_loc(feature))\n",
    "            \n",
    "        if df[feature].dtype == \"O\":\n",
    "            categorical_column.append(feature)\n",
    "            categorical_column_index.append(df.columns.get_loc(feature))\n",
    "\n",
    "    print(f\" Numerical Feature ({len(numerical_column)}) : {numerical_column} \\n\")\n",
    "    print(f\" Numerical Feature Index : {numerical_column_index} \\n\")\n",
    "    \n",
    "    print(f\" Categorical Feature ({len(categorical_column)}) : {categorical_column}\\n\")\n",
    "    print(f\" Categorical Feature Index : {categorical_column_index}\\n\")\n",
    "\n",
    "    return numerical_column, numerical_column_index, categorical_column, categorical_column_index\n",
    "    "
   ]
  },
  {
   "cell_type": "markdown",
   "id": "be95a6f4-15c4-4037-8155-09066e6d817f",
   "metadata": {},
   "source": [
    "## Missing Value Treatment"
   ]
  },
  {
   "cell_type": "markdown",
   "id": "c1f845df-6b0a-4788-ae95-d759362cf139",
   "metadata": {},
   "source": [
    "#### Imputing  xtrain"
   ]
  },
  {
   "cell_type": "code",
   "execution_count": 24,
   "id": "a7483116-39ad-4bee-b4d0-9e3f3bfe25c9",
   "metadata": {},
   "outputs": [
    {
     "data": {
      "text/plain": [
       "EntityID                           0\n",
       "OriginalCreditor[Redacted]         0\n",
       "AccountID                          0\n",
       "CurrentBalance                     0\n",
       "DebtLoadPrincipal                  0\n",
       "Balanaceatdebt_load                0\n",
       "PurchasePrice                   2150\n",
       "ProductOrDebtType                  0\n",
       "CollectionStatus                   0\n",
       "ClosureReason                 317900\n",
       "InBankruptcy                       0\n",
       "AccountInsolvencyType         324900\n",
       "CustomerInsolvencyType        318339\n",
       "IsLegal                            0\n",
       "LastPaymentAmount             241790\n",
       "LastPaymentMethod             241790\n",
       "NumLiableParties                  94\n",
       "CustomerAge                    23613\n",
       "NumPhones                          0\n",
       "NumEmails                          0\n",
       "NumAddresses                       0\n",
       "Unnamed: 22                   325138\n",
       "Unnamed: 23                   325138\n",
       "Unnamed: 24                   325137\n",
       "dtype: int64"
      ]
     },
     "execution_count": 24,
     "metadata": {},
     "output_type": "execute_result"
    }
   ],
   "source": [
    "# Checking Missing Value in each column\n",
    "xtrain.isnull().sum()"
   ]
  },
  {
   "cell_type": "code",
   "execution_count": 25,
   "id": "cbc7da28-c959-4fea-8095-efad426e8318",
   "metadata": {},
   "outputs": [
    {
     "name": "stdout",
     "output_type": "stream",
     "text": [
      "Precentage of missing data for entire dataset is : 31.345523541798663 %\n"
     ]
    }
   ],
   "source": [
    "# find out the total missing values of a xtrain before missing value treatment\n",
    "\n",
    "missing_value_count = xtrain.isnull().sum()\n",
    "total_cells = np.product(xtrain.shape)\n",
    "total_missing = missing_value_count.sum()\n",
    "\n",
    "print(f\"Precentage of missing data for entire dataset is : {(total_missing/total_cells)*100} %\")"
   ]
  },
  {
   "cell_type": "code",
   "execution_count": 26,
   "id": "a7ba821c-3192-423b-ac80-4a27555350cf",
   "metadata": {},
   "outputs": [
    {
     "data": {
      "text/html": [
       "<div>\n",
       "<style scoped>\n",
       "    .dataframe tbody tr th:only-of-type {\n",
       "        vertical-align: middle;\n",
       "    }\n",
       "\n",
       "    .dataframe tbody tr th {\n",
       "        vertical-align: top;\n",
       "    }\n",
       "\n",
       "    .dataframe thead th {\n",
       "        text-align: right;\n",
       "    }\n",
       "</style>\n",
       "<table border=\"1\" class=\"dataframe\">\n",
       "  <thead>\n",
       "    <tr style=\"text-align: right;\">\n",
       "      <th></th>\n",
       "      <th>0</th>\n",
       "    </tr>\n",
       "  </thead>\n",
       "  <tbody>\n",
       "    <tr>\n",
       "      <th>Unnamed: 23</th>\n",
       "      <td>100.00</td>\n",
       "    </tr>\n",
       "    <tr>\n",
       "      <th>Unnamed: 22</th>\n",
       "      <td>100.00</td>\n",
       "    </tr>\n",
       "    <tr>\n",
       "      <th>Unnamed: 24</th>\n",
       "      <td>100.00</td>\n",
       "    </tr>\n",
       "    <tr>\n",
       "      <th>AccountInsolvencyType</th>\n",
       "      <td>99.93</td>\n",
       "    </tr>\n",
       "    <tr>\n",
       "      <th>CustomerInsolvencyType</th>\n",
       "      <td>97.91</td>\n",
       "    </tr>\n",
       "    <tr>\n",
       "      <th>ClosureReason</th>\n",
       "      <td>97.77</td>\n",
       "    </tr>\n",
       "    <tr>\n",
       "      <th>LastPaymentAmount</th>\n",
       "      <td>74.37</td>\n",
       "    </tr>\n",
       "    <tr>\n",
       "      <th>LastPaymentMethod</th>\n",
       "      <td>74.37</td>\n",
       "    </tr>\n",
       "    <tr>\n",
       "      <th>CustomerAge</th>\n",
       "      <td>7.26</td>\n",
       "    </tr>\n",
       "    <tr>\n",
       "      <th>PurchasePrice</th>\n",
       "      <td>0.66</td>\n",
       "    </tr>\n",
       "    <tr>\n",
       "      <th>NumLiableParties</th>\n",
       "      <td>0.03</td>\n",
       "    </tr>\n",
       "    <tr>\n",
       "      <th>AccountID</th>\n",
       "      <td>0.00</td>\n",
       "    </tr>\n",
       "    <tr>\n",
       "      <th>CurrentBalance</th>\n",
       "      <td>0.00</td>\n",
       "    </tr>\n",
       "    <tr>\n",
       "      <th>NumAddresses</th>\n",
       "      <td>0.00</td>\n",
       "    </tr>\n",
       "    <tr>\n",
       "      <th>NumEmails</th>\n",
       "      <td>0.00</td>\n",
       "    </tr>\n",
       "    <tr>\n",
       "      <th>NumPhones</th>\n",
       "      <td>0.00</td>\n",
       "    </tr>\n",
       "    <tr>\n",
       "      <th>Balanaceatdebt_load</th>\n",
       "      <td>0.00</td>\n",
       "    </tr>\n",
       "    <tr>\n",
       "      <th>IsLegal</th>\n",
       "      <td>0.00</td>\n",
       "    </tr>\n",
       "    <tr>\n",
       "      <th>OriginalCreditor[Redacted]</th>\n",
       "      <td>0.00</td>\n",
       "    </tr>\n",
       "    <tr>\n",
       "      <th>DebtLoadPrincipal</th>\n",
       "      <td>0.00</td>\n",
       "    </tr>\n",
       "    <tr>\n",
       "      <th>InBankruptcy</th>\n",
       "      <td>0.00</td>\n",
       "    </tr>\n",
       "    <tr>\n",
       "      <th>CollectionStatus</th>\n",
       "      <td>0.00</td>\n",
       "    </tr>\n",
       "    <tr>\n",
       "      <th>ProductOrDebtType</th>\n",
       "      <td>0.00</td>\n",
       "    </tr>\n",
       "    <tr>\n",
       "      <th>EntityID</th>\n",
       "      <td>0.00</td>\n",
       "    </tr>\n",
       "  </tbody>\n",
       "</table>\n",
       "</div>"
      ],
      "text/plain": [
       "                                 0\n",
       "Unnamed: 23                 100.00\n",
       "Unnamed: 22                 100.00\n",
       "Unnamed: 24                 100.00\n",
       "AccountInsolvencyType        99.93\n",
       "CustomerInsolvencyType       97.91\n",
       "ClosureReason                97.77\n",
       "LastPaymentAmount            74.37\n",
       "LastPaymentMethod            74.37\n",
       "CustomerAge                   7.26\n",
       "PurchasePrice                 0.66\n",
       "NumLiableParties              0.03\n",
       "AccountID                     0.00\n",
       "CurrentBalance                0.00\n",
       "NumAddresses                  0.00\n",
       "NumEmails                     0.00\n",
       "NumPhones                     0.00\n",
       "Balanaceatdebt_load           0.00\n",
       "IsLegal                       0.00\n",
       "OriginalCreditor[Redacted]    0.00\n",
       "DebtLoadPrincipal             0.00\n",
       "InBankruptcy                  0.00\n",
       "CollectionStatus              0.00\n",
       "ProductOrDebtType             0.00\n",
       "EntityID                      0.00"
      ]
     },
     "execution_count": 26,
     "metadata": {},
     "output_type": "execute_result"
    }
   ],
   "source": [
    "# identifying % of missing value in each column\n",
    "missing_value_column = round(xtrain.isna().sum().div(xtrain.shape[0]).mul(100).to_frame().sort_values(by=0, \n",
    "                                                                           ascending=False), 2)\n",
    "missing_value_column"
   ]
  },
  {
   "cell_type": "code",
   "execution_count": 27,
   "id": "773b4a4f-648b-409c-a93b-181e1b6ea7b5",
   "metadata": {},
   "outputs": [
    {
     "data": {
      "image/png": "[encoded data removed]",
      "text/plain": [
       "<Figure size 1500x500 with 1 Axes>"
      ]
     },
     "metadata": {},
     "output_type": "display_data"
    }
   ],
   "source": [
    "# graph to display % of missing value in each feature\n",
    "fig, ax = plt.subplots(figsize=(15,5))\n",
    "ax.bar(missing_value_column.index, missing_value_column.values.T[0])\n",
    "plt.xticks([])\n",
    "plt.ylabel(\"precentage missing\")\n",
    "plt.show()\n",
    "# from graph we can see that some features have nearly 100% missing value so we have to handle it"
   ]
  },
  {
   "cell_type": "code",
   "execution_count": 28,
   "id": "a282ffd1-aed2-439f-a687-40e4c368d18b",
   "metadata": {},
   "outputs": [
    {
     "data": {
      "text/plain": [
       "(325138, 24)"
      ]
     },
     "execution_count": 28,
     "metadata": {},
     "output_type": "execute_result"
    }
   ],
   "source": [
    "# shape of xtrain before droping column having missing value % >70\n",
    "xtrain.shape"
   ]
  },
  {
   "cell_type": "code",
   "execution_count": 29,
   "id": "2f7a88fa-c848-491c-b6f2-20461c16bf44",
   "metadata": {},
   "outputs": [
    {
     "data": {
      "text/html": [
       "<div>\n",
       "<style scoped>\n",
       "    .dataframe tbody tr th:only-of-type {\n",
       "        vertical-align: middle;\n",
       "    }\n",
       "\n",
       "    .dataframe tbody tr th {\n",
       "        vertical-align: top;\n",
       "    }\n",
       "\n",
       "    .dataframe thead th {\n",
       "        text-align: right;\n",
       "    }\n",
       "</style>\n",
       "<table border=\"1\" class=\"dataframe\">\n",
       "  <thead>\n",
       "    <tr style=\"text-align: right;\">\n",
       "      <th></th>\n",
       "      <th>0</th>\n",
       "    </tr>\n",
       "  </thead>\n",
       "  <tbody>\n",
       "    <tr>\n",
       "      <th>Unnamed: 23</th>\n",
       "      <td>100.00</td>\n",
       "    </tr>\n",
       "    <tr>\n",
       "      <th>Unnamed: 22</th>\n",
       "      <td>100.00</td>\n",
       "    </tr>\n",
       "    <tr>\n",
       "      <th>Unnamed: 24</th>\n",
       "      <td>100.00</td>\n",
       "    </tr>\n",
       "    <tr>\n",
       "      <th>AccountInsolvencyType</th>\n",
       "      <td>99.93</td>\n",
       "    </tr>\n",
       "    <tr>\n",
       "      <th>CustomerInsolvencyType</th>\n",
       "      <td>97.91</td>\n",
       "    </tr>\n",
       "    <tr>\n",
       "      <th>ClosureReason</th>\n",
       "      <td>97.77</td>\n",
       "    </tr>\n",
       "    <tr>\n",
       "      <th>LastPaymentAmount</th>\n",
       "      <td>74.37</td>\n",
       "    </tr>\n",
       "    <tr>\n",
       "      <th>LastPaymentMethod</th>\n",
       "      <td>74.37</td>\n",
       "    </tr>\n",
       "  </tbody>\n",
       "</table>\n",
       "</div>"
      ],
      "text/plain": [
       "                             0\n",
       "Unnamed: 23             100.00\n",
       "Unnamed: 22             100.00\n",
       "Unnamed: 24             100.00\n",
       "AccountInsolvencyType    99.93\n",
       "CustomerInsolvencyType   97.91\n",
       "ClosureReason            97.77\n",
       "LastPaymentAmount        74.37\n",
       "LastPaymentMethod        74.37"
      ]
     },
     "execution_count": 29,
     "metadata": {},
     "output_type": "execute_result"
    }
   ],
   "source": [
    "# selecting column having missing value % >70\n",
    "dropcols = missing_value_column[missing_value_column[0]>70]\n",
    "dropcols"
   ]
  },
  {
   "cell_type": "code",
   "execution_count": 30,
   "id": "08173606-2066-49a1-9f24-dc21355b4d3c",
   "metadata": {},
   "outputs": [],
   "source": [
    "# dropping the columns from the xtrain\n",
    "xtrain.drop(list(dropcols.index), axis=1, inplace=True)"
   ]
  },
  {
   "cell_type": "code",
   "execution_count": 31,
   "id": "f9888be9-eb62-4f07-b166-98c5e5d69e90",
   "metadata": {},
   "outputs": [
    {
     "data": {
      "text/plain": [
       "(325138, 16)"
      ]
     },
     "execution_count": 31,
     "metadata": {},
     "output_type": "execute_result"
    }
   ],
   "source": [
    "# shape of df after droping column having missing value % >70\n",
    "xtrain.shape"
   ]
  },
  {
   "cell_type": "code",
   "execution_count": 32,
   "id": "30ba812a-c367-4f6e-8461-c64581d342f8",
   "metadata": {},
   "outputs": [
    {
     "name": "stdout",
     "output_type": "stream",
     "text": [
      " Numerical Feature (11) : ['EntityID', 'AccountID', 'CurrentBalance', 'DebtLoadPrincipal', 'Balanaceatdebt_load', 'PurchasePrice', 'NumLiableParties', 'CustomerAge', 'NumPhones', 'NumEmails', 'NumAddresses'] \n",
      "\n",
      " Numerical Feature Index : [0, 2, 3, 4, 5, 6, 11, 12, 13, 14, 15] \n",
      "\n",
      " Categorical Feature (5) : ['OriginalCreditor[Redacted]', 'ProductOrDebtType', 'CollectionStatus', 'InBankruptcy', 'IsLegal']\n",
      "\n",
      " Categorical Feature Index : [1, 7, 8, 9, 10]\n",
      "\n"
     ]
    }
   ],
   "source": [
    "# calculating numerical and categorical column for xtrain by calling CloumnsByDtype() function\n",
    "xtrain_numerical_column, xtrain_numerical_column_index, xtrain_categorical_column, xtrain_categorical_column_index = CloumnsByDtype(xtrain)"
   ]
  },
  {
   "cell_type": "code",
   "execution_count": 33,
   "id": "8642cc5d-a8af-4ba1-8631-1d9857b703ef",
   "metadata": {},
   "outputs": [],
   "source": [
    "# imputation for xtrain numerical column\n",
    "for column in xtrain_numerical_column:\n",
    "    if (xtrain[column].isna().sum()/(xtrain.shape[0])*(100))<=8:\n",
    "        xtrain[column].fillna(xtrain[column].mean(),inplace=True)"
   ]
  },
  {
   "cell_type": "code",
   "execution_count": 34,
   "id": "67565e3f-3b95-4a6a-9dbc-3a77939d03f9",
   "metadata": {},
   "outputs": [],
   "source": [
    "# imputation for xtrain categorical column\n",
    "for column in xtrain_categorical_column:\n",
    "    if (xtrain[column].isna().sum()/(xtrain.shape[0])*(100))<=8:\n",
    "        xtrain[column].fillna(xtrain[column].mode(),inplace=True)"
   ]
  },
  {
   "cell_type": "code",
   "execution_count": 35,
   "id": "baa45da6-46d0-4d88-9ace-609b490f12e3",
   "metadata": {},
   "outputs": [
    {
     "data": {
      "text/plain": [
       "EntityID                      0\n",
       "OriginalCreditor[Redacted]    0\n",
       "AccountID                     0\n",
       "CurrentBalance                0\n",
       "DebtLoadPrincipal             0\n",
       "Balanaceatdebt_load           0\n",
       "PurchasePrice                 0\n",
       "ProductOrDebtType             0\n",
       "CollectionStatus              0\n",
       "InBankruptcy                  0\n",
       "IsLegal                       0\n",
       "NumLiableParties              0\n",
       "CustomerAge                   0\n",
       "NumPhones                     0\n",
       "NumEmails                     0\n",
       "NumAddresses                  0\n",
       "dtype: int64"
      ]
     },
     "execution_count": 35,
     "metadata": {},
     "output_type": "execute_result"
    }
   ],
   "source": [
    "xtrain.isnull().sum()"
   ]
  },
  {
   "cell_type": "markdown",
   "id": "14be8620-1c81-48f1-a272-9f95cbbea0dc",
   "metadata": {},
   "source": [
    "#### Imputing  xtest"
   ]
  },
  {
   "cell_type": "code",
   "execution_count": 37,
   "id": "7f36b384-b731-434a-953e-a392938c4ae0",
   "metadata": {},
   "outputs": [
    {
     "data": {
      "text/plain": [
       "EntityID                          0\n",
       "OriginalCreditor[Redacted]        0\n",
       "AccountID                         0\n",
       "CurrentBalance                    0\n",
       "DebtLoadPrincipal                 0\n",
       "Balanaceatdebt_load               0\n",
       "PurchasePrice                   542\n",
       "ProductOrDebtType                 0\n",
       "CollectionStatus                  0\n",
       "ClosureReason                 79493\n",
       "InBankruptcy                      0\n",
       "AccountInsolvencyType         81238\n",
       "CustomerInsolvencyType        79553\n",
       "IsLegal                           0\n",
       "LastPaymentAmount             60656\n",
       "LastPaymentMethod             60656\n",
       "NumLiableParties                 28\n",
       "CustomerAge                    5869\n",
       "NumPhones                         0\n",
       "NumEmails                         0\n",
       "NumAddresses                      0\n",
       "Unnamed: 22                   81285\n",
       "Unnamed: 23                   81285\n",
       "Unnamed: 24                   81285\n",
       "dtype: int64"
      ]
     },
     "execution_count": 37,
     "metadata": {},
     "output_type": "execute_result"
    }
   ],
   "source": [
    "# Checking Missing Value in each column\n",
    "xtest.isnull().sum()"
   ]
  },
  {
   "cell_type": "code",
   "execution_count": 38,
   "id": "94ed41f9-c8a3-4665-9dd4-ae257f933361",
   "metadata": {},
   "outputs": [
    {
     "name": "stdout",
     "output_type": "stream",
     "text": [
      "Precentage of missing data for entire dataset is : 31.365463082569562 %\n"
     ]
    }
   ],
   "source": [
    "# find out the total missing values of a xtest before missing value treatment\n",
    "\n",
    "missing_value_count = xtest.isnull().sum()\n",
    "total_cells = np.product(xtest.shape)\n",
    "total_missing = missing_value_count.sum()\n",
    "\n",
    "print(f\"Precentage of missing data for entire dataset is : {(total_missing/total_cells)*100} %\")"
   ]
  },
  {
   "cell_type": "code",
   "execution_count": 39,
   "id": "0c6f9eb9-eec1-4f43-b9b5-83e1fdf922b7",
   "metadata": {},
   "outputs": [
    {
     "data": {
      "text/html": [
       "<div>\n",
       "<style scoped>\n",
       "    .dataframe tbody tr th:only-of-type {\n",
       "        vertical-align: middle;\n",
       "    }\n",
       "\n",
       "    .dataframe tbody tr th {\n",
       "        vertical-align: top;\n",
       "    }\n",
       "\n",
       "    .dataframe thead th {\n",
       "        text-align: right;\n",
       "    }\n",
       "</style>\n",
       "<table border=\"1\" class=\"dataframe\">\n",
       "  <thead>\n",
       "    <tr style=\"text-align: right;\">\n",
       "      <th></th>\n",
       "      <th>0</th>\n",
       "    </tr>\n",
       "  </thead>\n",
       "  <tbody>\n",
       "    <tr>\n",
       "      <th>Unnamed: 24</th>\n",
       "      <td>100.00</td>\n",
       "    </tr>\n",
       "    <tr>\n",
       "      <th>Unnamed: 23</th>\n",
       "      <td>100.00</td>\n",
       "    </tr>\n",
       "    <tr>\n",
       "      <th>Unnamed: 22</th>\n",
       "      <td>100.00</td>\n",
       "    </tr>\n",
       "    <tr>\n",
       "      <th>AccountInsolvencyType</th>\n",
       "      <td>99.94</td>\n",
       "    </tr>\n",
       "    <tr>\n",
       "      <th>CustomerInsolvencyType</th>\n",
       "      <td>97.87</td>\n",
       "    </tr>\n",
       "    <tr>\n",
       "      <th>ClosureReason</th>\n",
       "      <td>97.80</td>\n",
       "    </tr>\n",
       "    <tr>\n",
       "      <th>LastPaymentAmount</th>\n",
       "      <td>74.62</td>\n",
       "    </tr>\n",
       "    <tr>\n",
       "      <th>LastPaymentMethod</th>\n",
       "      <td>74.62</td>\n",
       "    </tr>\n",
       "    <tr>\n",
       "      <th>CustomerAge</th>\n",
       "      <td>7.22</td>\n",
       "    </tr>\n",
       "    <tr>\n",
       "      <th>PurchasePrice</th>\n",
       "      <td>0.67</td>\n",
       "    </tr>\n",
       "    <tr>\n",
       "      <th>NumLiableParties</th>\n",
       "      <td>0.03</td>\n",
       "    </tr>\n",
       "    <tr>\n",
       "      <th>AccountID</th>\n",
       "      <td>0.00</td>\n",
       "    </tr>\n",
       "    <tr>\n",
       "      <th>CurrentBalance</th>\n",
       "      <td>0.00</td>\n",
       "    </tr>\n",
       "    <tr>\n",
       "      <th>NumAddresses</th>\n",
       "      <td>0.00</td>\n",
       "    </tr>\n",
       "    <tr>\n",
       "      <th>NumEmails</th>\n",
       "      <td>0.00</td>\n",
       "    </tr>\n",
       "    <tr>\n",
       "      <th>NumPhones</th>\n",
       "      <td>0.00</td>\n",
       "    </tr>\n",
       "    <tr>\n",
       "      <th>Balanaceatdebt_load</th>\n",
       "      <td>0.00</td>\n",
       "    </tr>\n",
       "    <tr>\n",
       "      <th>IsLegal</th>\n",
       "      <td>0.00</td>\n",
       "    </tr>\n",
       "    <tr>\n",
       "      <th>OriginalCreditor[Redacted]</th>\n",
       "      <td>0.00</td>\n",
       "    </tr>\n",
       "    <tr>\n",
       "      <th>DebtLoadPrincipal</th>\n",
       "      <td>0.00</td>\n",
       "    </tr>\n",
       "    <tr>\n",
       "      <th>InBankruptcy</th>\n",
       "      <td>0.00</td>\n",
       "    </tr>\n",
       "    <tr>\n",
       "      <th>CollectionStatus</th>\n",
       "      <td>0.00</td>\n",
       "    </tr>\n",
       "    <tr>\n",
       "      <th>ProductOrDebtType</th>\n",
       "      <td>0.00</td>\n",
       "    </tr>\n",
       "    <tr>\n",
       "      <th>EntityID</th>\n",
       "      <td>0.00</td>\n",
       "    </tr>\n",
       "  </tbody>\n",
       "</table>\n",
       "</div>"
      ],
      "text/plain": [
       "                                 0\n",
       "Unnamed: 24                 100.00\n",
       "Unnamed: 23                 100.00\n",
       "Unnamed: 22                 100.00\n",
       "AccountInsolvencyType        99.94\n",
       "CustomerInsolvencyType       97.87\n",
       "ClosureReason                97.80\n",
       "LastPaymentAmount            74.62\n",
       "LastPaymentMethod            74.62\n",
       "CustomerAge                   7.22\n",
       "PurchasePrice                 0.67\n",
       "NumLiableParties              0.03\n",
       "AccountID                     0.00\n",
       "CurrentBalance                0.00\n",
       "NumAddresses                  0.00\n",
       "NumEmails                     0.00\n",
       "NumPhones                     0.00\n",
       "Balanaceatdebt_load           0.00\n",
       "IsLegal                       0.00\n",
       "OriginalCreditor[Redacted]    0.00\n",
       "DebtLoadPrincipal             0.00\n",
       "InBankruptcy                  0.00\n",
       "CollectionStatus              0.00\n",
       "ProductOrDebtType             0.00\n",
       "EntityID                      0.00"
      ]
     },
     "execution_count": 39,
     "metadata": {},
     "output_type": "execute_result"
    }
   ],
   "source": [
    "# identifying % of missing value in each column\n",
    "missing_value_column = round(xtest.isna().sum().div(xtest.shape[0]).mul(100).to_frame().sort_values(by=0, \n",
    "                                                                           ascending=False), 2)\n",
    "missing_value_column"
   ]
  },
  {
   "cell_type": "code",
   "execution_count": 40,
   "id": "cbeb7128-32b2-41b6-951a-35f8d4893acc",
   "metadata": {},
   "outputs": [
    {
     "data": {
      "image/png": "[encoded data removed]",
      "text/plain": [
       "<Figure size 1500x500 with 1 Axes>"
      ]
     },
     "metadata": {},
     "output_type": "display_data"
    }
   ],
   "source": [
    "# graph to display % of missing value in each feature\n",
    "fig, ax = plt.subplots(figsize=(15,5))\n",
    "ax.bar(missing_value_column.index, missing_value_column.values.T[0])\n",
    "plt.xticks([])\n",
    "plt.ylabel(\"precentage missing\")\n",
    "plt.show()\n",
    "# from graph we can see that some features have nearly 100% missing value so we have to handle it"
   ]
  },
  {
   "cell_type": "code",
   "execution_count": 41,
   "id": "67594f05-dee6-4073-aca3-b5ed6ff4edc2",
   "metadata": {},
   "outputs": [
    {
     "data": {
      "text/plain": [
       "(81285, 24)"
      ]
     },
     "execution_count": 41,
     "metadata": {},
     "output_type": "execute_result"
    }
   ],
   "source": [
    "# shape of xtest before droping column having missing value % >70\n",
    "xtest.shape"
   ]
  },
  {
   "cell_type": "code",
   "execution_count": 42,
   "id": "b1756309-0b87-42b2-8ab7-fef2153623f8",
   "metadata": {},
   "outputs": [
    {
     "data": {
      "text/html": [
       "<div>\n",
       "<style scoped>\n",
       "    .dataframe tbody tr th:only-of-type {\n",
       "        vertical-align: middle;\n",
       "    }\n",
       "\n",
       "    .dataframe tbody tr th {\n",
       "        vertical-align: top;\n",
       "    }\n",
       "\n",
       "    .dataframe thead th {\n",
       "        text-align: right;\n",
       "    }\n",
       "</style>\n",
       "<table border=\"1\" class=\"dataframe\">\n",
       "  <thead>\n",
       "    <tr style=\"text-align: right;\">\n",
       "      <th></th>\n",
       "      <th>0</th>\n",
       "    </tr>\n",
       "  </thead>\n",
       "  <tbody>\n",
       "    <tr>\n",
       "      <th>Unnamed: 24</th>\n",
       "      <td>100.00</td>\n",
       "    </tr>\n",
       "    <tr>\n",
       "      <th>Unnamed: 23</th>\n",
       "      <td>100.00</td>\n",
       "    </tr>\n",
       "    <tr>\n",
       "      <th>Unnamed: 22</th>\n",
       "      <td>100.00</td>\n",
       "    </tr>\n",
       "    <tr>\n",
       "      <th>AccountInsolvencyType</th>\n",
       "      <td>99.94</td>\n",
       "    </tr>\n",
       "    <tr>\n",
       "      <th>CustomerInsolvencyType</th>\n",
       "      <td>97.87</td>\n",
       "    </tr>\n",
       "    <tr>\n",
       "      <th>ClosureReason</th>\n",
       "      <td>97.80</td>\n",
       "    </tr>\n",
       "    <tr>\n",
       "      <th>LastPaymentAmount</th>\n",
       "      <td>74.62</td>\n",
       "    </tr>\n",
       "    <tr>\n",
       "      <th>LastPaymentMethod</th>\n",
       "      <td>74.62</td>\n",
       "    </tr>\n",
       "  </tbody>\n",
       "</table>\n",
       "</div>"
      ],
      "text/plain": [
       "                             0\n",
       "Unnamed: 24             100.00\n",
       "Unnamed: 23             100.00\n",
       "Unnamed: 22             100.00\n",
       "AccountInsolvencyType    99.94\n",
       "CustomerInsolvencyType   97.87\n",
       "ClosureReason            97.80\n",
       "LastPaymentAmount        74.62\n",
       "LastPaymentMethod        74.62"
      ]
     },
     "execution_count": 42,
     "metadata": {},
     "output_type": "execute_result"
    }
   ],
   "source": [
    "# selecting column having missing value % >70\n",
    "dropcols = missing_value_column[missing_value_column[0]>70]\n",
    "dropcols"
   ]
  },
  {
   "cell_type": "code",
   "execution_count": 43,
   "id": "3dde0944-1127-4252-b262-d7a230da54ad",
   "metadata": {},
   "outputs": [],
   "source": [
    "# dropping the columns from the xtest\n",
    "xtest.drop(list(dropcols.index), axis=1, inplace=True)"
   ]
  },
  {
   "cell_type": "code",
   "execution_count": 44,
   "id": "8ed8292a-5269-4e00-b6b6-1b4cabfaca10",
   "metadata": {},
   "outputs": [
    {
     "data": {
      "text/plain": [
       "(81285, 16)"
      ]
     },
     "execution_count": 44,
     "metadata": {},
     "output_type": "execute_result"
    }
   ],
   "source": [
    "# shape of xtest after droping column having missing value % >70\n",
    "xtest.shape"
   ]
  },
  {
   "cell_type": "code",
   "execution_count": 45,
   "id": "5ed05a9c-67c9-4d54-9759-0c3e39095d4f",
   "metadata": {},
   "outputs": [
    {
     "name": "stdout",
     "output_type": "stream",
     "text": [
      " Numerical Feature (11) : ['EntityID', 'AccountID', 'CurrentBalance', 'DebtLoadPrincipal', 'Balanaceatdebt_load', 'PurchasePrice', 'NumLiableParties', 'CustomerAge', 'NumPhones', 'NumEmails', 'NumAddresses'] \n",
      "\n",
      " Numerical Feature Index : [0, 2, 3, 4, 5, 6, 11, 12, 13, 14, 15] \n",
      "\n",
      " Categorical Feature (5) : ['OriginalCreditor[Redacted]', 'ProductOrDebtType', 'CollectionStatus', 'InBankruptcy', 'IsLegal']\n",
      "\n",
      " Categorical Feature Index : [1, 7, 8, 9, 10]\n",
      "\n"
     ]
    }
   ],
   "source": [
    "# calculating numerical and categorical column for xtest \n",
    "xtest_numerical_column, xtest_numerical_column_index, xtest_categorical_column, xtest_categorical_column_index = CloumnsByDtype(xtest)"
   ]
  },
  {
   "cell_type": "code",
   "execution_count": 46,
   "id": "602b1795-ab22-4258-bbb7-9801ef5bfdcd",
   "metadata": {},
   "outputs": [],
   "source": [
    "# imputation for xtest numerical column if missing value < 8%\n",
    "for column in xtest_numerical_column:\n",
    "    if (xtest[column].isna().sum()/(xtest.shape[0])*(100))<=8:\n",
    "        xtest[column].fillna(xtest[column].mean(),inplace=True)"
   ]
  },
  {
   "cell_type": "code",
   "execution_count": 47,
   "id": "be5de90c-5098-4440-b410-bb35c25a381b",
   "metadata": {},
   "outputs": [],
   "source": [
    "# imputation for xtest categorical column if missing value < 8%\n",
    "for column in xtest_categorical_column:\n",
    "    if (xtest[column].isna().sum()/(xtest.shape[0])*(100))<=8:\n",
    "        xtest[column].fillna(xtest[column].mode(),inplace=True)"
   ]
  },
  {
   "cell_type": "code",
   "execution_count": 48,
   "id": "a61671a8-7269-4a93-80fe-d39f0bd3c42f",
   "metadata": {},
   "outputs": [
    {
     "data": {
      "text/plain": [
       "EntityID                      0\n",
       "OriginalCreditor[Redacted]    0\n",
       "AccountID                     0\n",
       "CurrentBalance                0\n",
       "DebtLoadPrincipal             0\n",
       "Balanaceatdebt_load           0\n",
       "PurchasePrice                 0\n",
       "ProductOrDebtType             0\n",
       "CollectionStatus              0\n",
       "InBankruptcy                  0\n",
       "IsLegal                       0\n",
       "NumLiableParties              0\n",
       "CustomerAge                   0\n",
       "NumPhones                     0\n",
       "NumEmails                     0\n",
       "NumAddresses                  0\n",
       "dtype: int64"
      ]
     },
     "execution_count": 48,
     "metadata": {},
     "output_type": "execute_result"
    }
   ],
   "source": [
    "xtest.isnull().sum()\n",
    "# verifying that there is no missing value after imputation."
   ]
  },
  {
   "cell_type": "markdown",
   "id": "b9df6052-200f-480b-8cde-dea4f19d7441",
   "metadata": {},
   "source": [
    "## Correlation Analysis"
   ]
  },
  {
   "cell_type": "markdown",
   "id": "c5612b3b-857a-4563-b321-4b57429951e0",
   "metadata": {},
   "source": [
    "#### xtrain correlation analysis"
   ]
  },
  {
   "cell_type": "code",
   "execution_count": 51,
   "id": "54d74a8d-c69f-4bae-b97e-d966e0b2516f",
   "metadata": {},
   "outputs": [
    {
     "name": "stdout",
     "output_type": "stream",
     "text": [
      " Numerical Feature (11) : ['EntityID', 'AccountID', 'CurrentBalance', 'DebtLoadPrincipal', 'Balanaceatdebt_load', 'PurchasePrice', 'NumLiableParties', 'CustomerAge', 'NumPhones', 'NumEmails', 'NumAddresses'] \n",
      "\n",
      " Numerical Feature Index : [0, 2, 3, 4, 5, 6, 11, 12, 13, 14, 15] \n",
      "\n",
      " Categorical Feature (5) : ['OriginalCreditor[Redacted]', 'ProductOrDebtType', 'CollectionStatus', 'InBankruptcy', 'IsLegal']\n",
      "\n",
      " Categorical Feature Index : [1, 7, 8, 9, 10]\n",
      "\n"
     ]
    }
   ],
   "source": [
    "# calculating numerical and categorical column for xtrain.\n",
    "xtrain_numerical_column, xtrain_numerical_column_index, xtrain_categorical_column, xtrain_categorical_column_index = CloumnsByDtype(xtrain)"
   ]
  },
  {
   "cell_type": "code",
   "execution_count": 52,
   "id": "729fb7b4-0566-4b89-a446-b91c915271c4",
   "metadata": {},
   "outputs": [
    {
     "data": {
      "text/plain": [
       "<Axes: >"
      ]
     },
     "execution_count": 52,
     "metadata": {},
     "output_type": "execute_result"
    },
    {
     "data": {
      "image/png": "[encoded data removed]",
      "text/plain": [
       "<Figure size 1000x400 with 2 Axes>"
      ]
     },
     "metadata": {},
     "output_type": "display_data"
    }
   ],
   "source": [
    "# heatmap to analysis correlation between feature.\n",
    "plt.figure(figsize=(10, 4))\n",
    "sns.heatmap(xtrain[xtrain_numerical_column].corr(), annot=True, fmt=\".2f\")"
   ]
  },
  {
   "cell_type": "code",
   "execution_count": 53,
   "id": "6b271499-d75a-4140-adfb-f0cbcf887f48",
   "metadata": {},
   "outputs": [],
   "source": [
    "# droping either of highly correlated column\n",
    "xtrain.drop(['EntityID', 'DebtLoadPrincipal', 'Balanaceatdebt_load'],axis=1,inplace=True)"
   ]
  },
  {
   "cell_type": "code",
   "execution_count": 54,
   "id": "c881f4db-0a76-4487-a04a-6ad3171a2af4",
   "metadata": {},
   "outputs": [
    {
     "data": {
      "text/plain": [
       "(325138, 13)"
      ]
     },
     "execution_count": 54,
     "metadata": {},
     "output_type": "execute_result"
    }
   ],
   "source": [
    "xtrain.shape"
   ]
  },
  {
   "cell_type": "markdown",
   "id": "ae4cc4bd-9817-4bc7-8adf-518779fee2a9",
   "metadata": {},
   "source": [
    "#### xtest correlation analysis"
   ]
  },
  {
   "cell_type": "code",
   "execution_count": 56,
   "id": "5ceb5d76-7794-4ae0-ac30-01cee6826e4d",
   "metadata": {},
   "outputs": [
    {
     "name": "stdout",
     "output_type": "stream",
     "text": [
      " Numerical Feature (11) : ['EntityID', 'AccountID', 'CurrentBalance', 'DebtLoadPrincipal', 'Balanaceatdebt_load', 'PurchasePrice', 'NumLiableParties', 'CustomerAge', 'NumPhones', 'NumEmails', 'NumAddresses'] \n",
      "\n",
      " Numerical Feature Index : [0, 2, 3, 4, 5, 6, 11, 12, 13, 14, 15] \n",
      "\n",
      " Categorical Feature (5) : ['OriginalCreditor[Redacted]', 'ProductOrDebtType', 'CollectionStatus', 'InBankruptcy', 'IsLegal']\n",
      "\n",
      " Categorical Feature Index : [1, 7, 8, 9, 10]\n",
      "\n"
     ]
    }
   ],
   "source": [
    "# calculating numerical and categorical column for xtest.\n",
    "xtest_numerical_column, xtest_numerical_column_index, xtest_categorical_column, xtest_categorical_column_index = CloumnsByDtype(xtest)"
   ]
  },
  {
   "cell_type": "code",
   "execution_count": 57,
   "id": "ea3a830a-69dc-4b4c-bbe4-89e5c8930c4e",
   "metadata": {},
   "outputs": [
    {
     "data": {
      "text/plain": [
       "<Axes: >"
      ]
     },
     "execution_count": 57,
     "metadata": {},
     "output_type": "execute_result"
    },
    {
     "data": {
      "image/png": "[encoded data removed]",
      "text/plain": [
       "<Figure size 1000x500 with 2 Axes>"
      ]
     },
     "metadata": {},
     "output_type": "display_data"
    }
   ],
   "source": [
    "plt.figure(figsize=(10, 5))\n",
    "sns.heatmap(xtest[xtest_numerical_column].corr(), annot=True, fmt=\".2f\")"
   ]
  },
  {
   "cell_type": "code",
   "execution_count": 58,
   "id": "d89edcb1-dfd6-4f4e-8e19-7c5a1da087ca",
   "metadata": {},
   "outputs": [],
   "source": [
    "# droping either of highly correlated column\n",
    "xtest.drop(['EntityID', 'DebtLoadPrincipal', 'Balanaceatdebt_load'],axis=1,inplace=True)"
   ]
  },
  {
   "cell_type": "code",
   "execution_count": 59,
   "id": "133d9b39-0789-4121-831c-a46d6bd19556",
   "metadata": {},
   "outputs": [
    {
     "data": {
      "text/plain": [
       "(81285, 13)"
      ]
     },
     "execution_count": 59,
     "metadata": {},
     "output_type": "execute_result"
    }
   ],
   "source": [
    "xtest.shape"
   ]
  },
  {
   "cell_type": "markdown",
   "id": "79abd432-6b9d-467d-bb8f-ab0f30ffa4b9",
   "metadata": {},
   "source": [
    "## Data Scaling"
   ]
  },
  {
   "cell_type": "code",
   "execution_count": 61,
   "id": "e22881ee-cded-4ff2-861d-1d610eca0fd7",
   "metadata": {},
   "outputs": [],
   "source": [
    "# MinMaxScaler [0,1]\n",
    "min_max_scaler = MinMaxScaler()"
   ]
  },
  {
   "cell_type": "markdown",
   "id": "cd136a1d-879d-4276-91bc-40c89638e3b7",
   "metadata": {},
   "source": [
    "#### xtrain"
   ]
  },
  {
   "cell_type": "code",
   "execution_count": 63,
   "id": "cd1f67bc-b1d2-489d-ae54-f32197fa38f5",
   "metadata": {},
   "outputs": [
    {
     "name": "stdout",
     "output_type": "stream",
     "text": [
      " Numerical Feature (8) : ['AccountID', 'CurrentBalance', 'PurchasePrice', 'NumLiableParties', 'CustomerAge', 'NumPhones', 'NumEmails', 'NumAddresses'] \n",
      "\n",
      " Numerical Feature Index : [1, 2, 3, 8, 9, 10, 11, 12] \n",
      "\n",
      " Categorical Feature (5) : ['OriginalCreditor[Redacted]', 'ProductOrDebtType', 'CollectionStatus', 'InBankruptcy', 'IsLegal']\n",
      "\n",
      " Categorical Feature Index : [0, 4, 5, 6, 7]\n",
      "\n"
     ]
    }
   ],
   "source": [
    "# calculating numerical and categorical column for xtrain.\n",
    "xtrain_numerical_column, xtrain_numerical_column_index, xtrain_categorical_column, xtrain_categorical_column_index = CloumnsByDtype(xtrain)"
   ]
  },
  {
   "cell_type": "code",
   "execution_count": 64,
   "id": "8f1318e7-86c8-41a5-8e03-300f228ed599",
   "metadata": {},
   "outputs": [],
   "source": [
    "# scaling xtrain column and storing it in original column\n",
    "xtrain[xtrain_numerical_column] = min_max_scaler.fit_transform(xtrain[xtrain_numerical_column])"
   ]
  },
  {
   "cell_type": "code",
   "execution_count": 65,
   "id": "c15634dd-8a2e-49bd-b00a-67a30c0c4eff",
   "metadata": {},
   "outputs": [
    {
     "data": {
      "text/html": [
       "<div>\n",
       "<style scoped>\n",
       "    .dataframe tbody tr th:only-of-type {\n",
       "        vertical-align: middle;\n",
       "    }\n",
       "\n",
       "    .dataframe tbody tr th {\n",
       "        vertical-align: top;\n",
       "    }\n",
       "\n",
       "    .dataframe thead th {\n",
       "        text-align: right;\n",
       "    }\n",
       "</style>\n",
       "<table border=\"1\" class=\"dataframe\">\n",
       "  <thead>\n",
       "    <tr style=\"text-align: right;\">\n",
       "      <th></th>\n",
       "      <th>OriginalCreditor[Redacted]</th>\n",
       "      <th>AccountID</th>\n",
       "      <th>CurrentBalance</th>\n",
       "      <th>PurchasePrice</th>\n",
       "      <th>ProductOrDebtType</th>\n",
       "      <th>CollectionStatus</th>\n",
       "      <th>InBankruptcy</th>\n",
       "      <th>IsLegal</th>\n",
       "      <th>NumLiableParties</th>\n",
       "      <th>CustomerAge</th>\n",
       "      <th>NumPhones</th>\n",
       "      <th>NumEmails</th>\n",
       "      <th>NumAddresses</th>\n",
       "    </tr>\n",
       "  </thead>\n",
       "  <tbody>\n",
       "    <tr>\n",
       "      <th>275365</th>\n",
       "      <td>Creditor 44</td>\n",
       "      <td>0.999603</td>\n",
       "      <td>0.017172</td>\n",
       "      <td>0.153106</td>\n",
       "      <td>Credit Cards</td>\n",
       "      <td>PAID_IN_FULL</td>\n",
       "      <td>N</td>\n",
       "      <td>N</td>\n",
       "      <td>0.0</td>\n",
       "      <td>0.365854</td>\n",
       "      <td>0.250</td>\n",
       "      <td>0.0</td>\n",
       "      <td>0.142857</td>\n",
       "    </tr>\n",
       "    <tr>\n",
       "      <th>43483</th>\n",
       "      <td>Creditor 17</td>\n",
       "      <td>0.030459</td>\n",
       "      <td>0.017206</td>\n",
       "      <td>0.055395</td>\n",
       "      <td>Utilities/Telco - Other</td>\n",
       "      <td>PASSIVE</td>\n",
       "      <td>N</td>\n",
       "      <td>N</td>\n",
       "      <td>0.0</td>\n",
       "      <td>0.467873</td>\n",
       "      <td>0.000</td>\n",
       "      <td>0.0</td>\n",
       "      <td>0.142857</td>\n",
       "    </tr>\n",
       "    <tr>\n",
       "      <th>390442</th>\n",
       "      <td>Creditor 49</td>\n",
       "      <td>0.999881</td>\n",
       "      <td>0.018201</td>\n",
       "      <td>0.177342</td>\n",
       "      <td>Finance Company - Other</td>\n",
       "      <td>PASSIVE</td>\n",
       "      <td>Y</td>\n",
       "      <td>N</td>\n",
       "      <td>0.0</td>\n",
       "      <td>0.457317</td>\n",
       "      <td>0.375</td>\n",
       "      <td>0.2</td>\n",
       "      <td>0.142857</td>\n",
       "    </tr>\n",
       "    <tr>\n",
       "      <th>211215</th>\n",
       "      <td>Creditor 41</td>\n",
       "      <td>0.030752</td>\n",
       "      <td>0.018168</td>\n",
       "      <td>0.031737</td>\n",
       "      <td>Other</td>\n",
       "      <td>ACTIVE</td>\n",
       "      <td>N</td>\n",
       "      <td>N</td>\n",
       "      <td>0.0</td>\n",
       "      <td>0.560976</td>\n",
       "      <td>0.000</td>\n",
       "      <td>0.0</td>\n",
       "      <td>0.142857</td>\n",
       "    </tr>\n",
       "    <tr>\n",
       "      <th>128999</th>\n",
       "      <td>Creditor 10</td>\n",
       "      <td>0.030550</td>\n",
       "      <td>0.020063</td>\n",
       "      <td>0.091748</td>\n",
       "      <td>Other</td>\n",
       "      <td>PASSIVE</td>\n",
       "      <td>N</td>\n",
       "      <td>N</td>\n",
       "      <td>0.0</td>\n",
       "      <td>0.451220</td>\n",
       "      <td>0.000</td>\n",
       "      <td>0.0</td>\n",
       "      <td>0.142857</td>\n",
       "    </tr>\n",
       "  </tbody>\n",
       "</table>\n",
       "</div>"
      ],
      "text/plain": [
       "       OriginalCreditor[Redacted]  AccountID  CurrentBalance  PurchasePrice  \\\n",
       "275365                Creditor 44   0.999603        0.017172       0.153106   \n",
       "43483                 Creditor 17   0.030459        0.017206       0.055395   \n",
       "390442                Creditor 49   0.999881        0.018201       0.177342   \n",
       "211215                Creditor 41   0.030752        0.018168       0.031737   \n",
       "128999                Creditor 10   0.030550        0.020063       0.091748   \n",
       "\n",
       "              ProductOrDebtType CollectionStatus InBankruptcy IsLegal  \\\n",
       "275365             Credit Cards     PAID_IN_FULL            N       N   \n",
       "43483   Utilities/Telco - Other          PASSIVE            N       N   \n",
       "390442  Finance Company - Other          PASSIVE            Y       N   \n",
       "211215                    Other           ACTIVE            N       N   \n",
       "128999                    Other          PASSIVE            N       N   \n",
       "\n",
       "        NumLiableParties  CustomerAge  NumPhones  NumEmails  NumAddresses  \n",
       "275365               0.0     0.365854      0.250        0.0      0.142857  \n",
       "43483                0.0     0.467873      0.000        0.0      0.142857  \n",
       "390442               0.0     0.457317      0.375        0.2      0.142857  \n",
       "211215               0.0     0.560976      0.000        0.0      0.142857  \n",
       "128999               0.0     0.451220      0.000        0.0      0.142857  "
      ]
     },
     "execution_count": 65,
     "metadata": {},
     "output_type": "execute_result"
    }
   ],
   "source": [
    "xtrain.head()"
   ]
  },
  {
   "cell_type": "markdown",
   "id": "613e3200-2791-44c3-b50c-eadf75514b03",
   "metadata": {},
   "source": [
    "#### xtest"
   ]
  },
  {
   "cell_type": "code",
   "execution_count": 67,
   "id": "99fd05d9-35b7-4865-8473-f862a5da5a20",
   "metadata": {},
   "outputs": [
    {
     "name": "stdout",
     "output_type": "stream",
     "text": [
      " Numerical Feature (8) : ['AccountID', 'CurrentBalance', 'PurchasePrice', 'NumLiableParties', 'CustomerAge', 'NumPhones', 'NumEmails', 'NumAddresses'] \n",
      "\n",
      " Numerical Feature Index : [1, 2, 3, 8, 9, 10, 11, 12] \n",
      "\n",
      " Categorical Feature (5) : ['OriginalCreditor[Redacted]', 'ProductOrDebtType', 'CollectionStatus', 'InBankruptcy', 'IsLegal']\n",
      "\n",
      " Categorical Feature Index : [0, 4, 5, 6, 7]\n",
      "\n"
     ]
    }
   ],
   "source": [
    "# calculating numerical and categorical column for xtest.\n",
    "xtest_numerical_column, xtest_numerical_column_index, xtest_categorical_column, xtest_categorical_column_index = CloumnsByDtype(xtest)"
   ]
  },
  {
   "cell_type": "code",
   "execution_count": 68,
   "id": "f33f7c35-a584-4ef2-bc0a-a7cd1e196571",
   "metadata": {},
   "outputs": [],
   "source": [
    "# scaling xtest column and storing it in original column\n",
    "xtest[xtest_numerical_column] = min_max_scaler.transform(xtest[xtest_numerical_column])"
   ]
  },
  {
   "cell_type": "code",
   "execution_count": 69,
   "id": "fed491a7-bb05-47d0-b1bb-6ddc31420d30",
   "metadata": {},
   "outputs": [
    {
     "data": {
      "text/html": [
       "<div>\n",
       "<style scoped>\n",
       "    .dataframe tbody tr th:only-of-type {\n",
       "        vertical-align: middle;\n",
       "    }\n",
       "\n",
       "    .dataframe tbody tr th {\n",
       "        vertical-align: top;\n",
       "    }\n",
       "\n",
       "    .dataframe thead th {\n",
       "        text-align: right;\n",
       "    }\n",
       "</style>\n",
       "<table border=\"1\" class=\"dataframe\">\n",
       "  <thead>\n",
       "    <tr style=\"text-align: right;\">\n",
       "      <th></th>\n",
       "      <th>OriginalCreditor[Redacted]</th>\n",
       "      <th>AccountID</th>\n",
       "      <th>CurrentBalance</th>\n",
       "      <th>PurchasePrice</th>\n",
       "      <th>ProductOrDebtType</th>\n",
       "      <th>CollectionStatus</th>\n",
       "      <th>InBankruptcy</th>\n",
       "      <th>IsLegal</th>\n",
       "      <th>NumLiableParties</th>\n",
       "      <th>CustomerAge</th>\n",
       "      <th>NumPhones</th>\n",
       "      <th>NumEmails</th>\n",
       "      <th>NumAddresses</th>\n",
       "    </tr>\n",
       "  </thead>\n",
       "  <tbody>\n",
       "    <tr>\n",
       "      <th>84128</th>\n",
       "      <td>Creditor 17</td>\n",
       "      <td>0.030500</td>\n",
       "      <td>0.022038</td>\n",
       "      <td>0.055395</td>\n",
       "      <td>Utilities/Telco - Other</td>\n",
       "      <td>PASSIVE</td>\n",
       "      <td>N</td>\n",
       "      <td>N</td>\n",
       "      <td>0.0</td>\n",
       "      <td>0.467778</td>\n",
       "      <td>0.0</td>\n",
       "      <td>0.0</td>\n",
       "      <td>0.142857</td>\n",
       "    </tr>\n",
       "    <tr>\n",
       "      <th>62672</th>\n",
       "      <td>Creditor 17</td>\n",
       "      <td>0.030478</td>\n",
       "      <td>0.017545</td>\n",
       "      <td>0.055395</td>\n",
       "      <td>Utilities/Telco - Other</td>\n",
       "      <td>PASSIVE</td>\n",
       "      <td>N</td>\n",
       "      <td>N</td>\n",
       "      <td>0.0</td>\n",
       "      <td>0.463415</td>\n",
       "      <td>0.0</td>\n",
       "      <td>0.0</td>\n",
       "      <td>0.142857</td>\n",
       "    </tr>\n",
       "    <tr>\n",
       "      <th>319606</th>\n",
       "      <td>Creditor 47</td>\n",
       "      <td>0.999705</td>\n",
       "      <td>0.017714</td>\n",
       "      <td>0.040969</td>\n",
       "      <td>Utilities/Telco - Other</td>\n",
       "      <td>ACTIVE</td>\n",
       "      <td>N</td>\n",
       "      <td>N</td>\n",
       "      <td>0.0</td>\n",
       "      <td>0.402439</td>\n",
       "      <td>0.0</td>\n",
       "      <td>0.0</td>\n",
       "      <td>0.142857</td>\n",
       "    </tr>\n",
       "    <tr>\n",
       "      <th>119250</th>\n",
       "      <td>Creditor 17</td>\n",
       "      <td>0.030535</td>\n",
       "      <td>0.018121</td>\n",
       "      <td>0.055395</td>\n",
       "      <td>Utilities/Telco - Other</td>\n",
       "      <td>PASSIVE</td>\n",
       "      <td>N</td>\n",
       "      <td>N</td>\n",
       "      <td>0.0</td>\n",
       "      <td>0.402439</td>\n",
       "      <td>0.0</td>\n",
       "      <td>0.0</td>\n",
       "      <td>0.142857</td>\n",
       "    </tr>\n",
       "    <tr>\n",
       "      <th>102815</th>\n",
       "      <td>Creditor 17</td>\n",
       "      <td>0.030519</td>\n",
       "      <td>0.017863</td>\n",
       "      <td>0.055395</td>\n",
       "      <td>Utilities/Telco - Other</td>\n",
       "      <td>PASSIVE</td>\n",
       "      <td>N</td>\n",
       "      <td>N</td>\n",
       "      <td>0.0</td>\n",
       "      <td>0.420732</td>\n",
       "      <td>0.0</td>\n",
       "      <td>0.0</td>\n",
       "      <td>0.142857</td>\n",
       "    </tr>\n",
       "  </tbody>\n",
       "</table>\n",
       "</div>"
      ],
      "text/plain": [
       "       OriginalCreditor[Redacted]  AccountID  CurrentBalance  PurchasePrice  \\\n",
       "84128                 Creditor 17   0.030500        0.022038       0.055395   \n",
       "62672                 Creditor 17   0.030478        0.017545       0.055395   \n",
       "319606                Creditor 47   0.999705        0.017714       0.040969   \n",
       "119250                Creditor 17   0.030535        0.018121       0.055395   \n",
       "102815                Creditor 17   0.030519        0.017863       0.055395   \n",
       "\n",
       "              ProductOrDebtType CollectionStatus InBankruptcy IsLegal  \\\n",
       "84128   Utilities/Telco - Other          PASSIVE            N       N   \n",
       "62672   Utilities/Telco - Other          PASSIVE            N       N   \n",
       "319606  Utilities/Telco - Other           ACTIVE            N       N   \n",
       "119250  Utilities/Telco - Other          PASSIVE            N       N   \n",
       "102815  Utilities/Telco - Other          PASSIVE            N       N   \n",
       "\n",
       "        NumLiableParties  CustomerAge  NumPhones  NumEmails  NumAddresses  \n",
       "84128                0.0     0.467778        0.0        0.0      0.142857  \n",
       "62672                0.0     0.463415        0.0        0.0      0.142857  \n",
       "319606               0.0     0.402439        0.0        0.0      0.142857  \n",
       "119250               0.0     0.402439        0.0        0.0      0.142857  \n",
       "102815               0.0     0.420732        0.0        0.0      0.142857  "
      ]
     },
     "execution_count": 69,
     "metadata": {},
     "output_type": "execute_result"
    }
   ],
   "source": [
    "xtest.head()"
   ]
  },
  {
   "cell_type": "markdown",
   "id": "4878e379-508b-4a32-a363-49b3db085734",
   "metadata": {},
   "source": [
    "## Outlier Treatment "
   ]
  },
  {
   "cell_type": "code",
   "execution_count": 71,
   "id": "ecfeaa4b-d0bb-4b76-8528-aa2fd8d3d74c",
   "metadata": {},
   "outputs": [],
   "source": [
    "# function to calculate outlier % of each column\n",
    "def calculate_outlier_percentage(df): \n",
    "    \"\"\"\n",
    "    calculate_outlier_percentage(df) - is a function which calculate the outlier percentage of each column in dataframe.\n",
    "    \n",
    "    Parameter:\n",
    "        df - pandas dataframe \n",
    "    \"\"\"\n",
    "    for column in df.select_dtypes(include=['float64', 'int64']).columns:\n",
    "        Q1 = df[column].quantile(0.25)\n",
    "        Q3 = df[column].quantile(0.75)\n",
    "        IQR = Q3 - Q1\n",
    "        lower_bound = Q1 - 1.5 * IQR\n",
    "        upper_bound = Q3 + 1.5 * IQR\n",
    "        outliers = df[(df[column] < lower_bound) | (df[column] > upper_bound)]\n",
    "        outlier_percent = (len(outliers) / len(df)) * 100\n",
    "        print(f'Outlier% of  {column}: {round(outlier_percent,2)}% ')\n"
   ]
  },
  {
   "cell_type": "code",
   "execution_count": 72,
   "id": "bfea7db5-c508-4728-82f3-9c1a2dab9016",
   "metadata": {},
   "outputs": [],
   "source": [
    "# # function to treat outlier in each column\n",
    "# def handle_outliers(X_train, y_train):\n",
    "#     for column in X_train.select_dtypes(include=['float64', 'int64']).columns:\n",
    "#         Q1 = X_train[column].quantile(0.25)\n",
    "#         Q3 = X_train[column].quantile(0.75)\n",
    "#         IQR = Q3 - Q1\n",
    "#         lower_limit = Q1 - 1.5 * IQR\n",
    "#         upper_limit = Q3 + 1.5 * IQR\n",
    "        \n",
    "#         # Identify outliers in X_train column\n",
    "#         outliers = (X_train[column] < lower_limit) | (X_train[column] > upper_limit)\n",
    "#         outlier_count = outliers.sum()\n",
    "#         total_rows = len(X_train)\n",
    "        \n",
    "#         # Calculate outlier percentage\n",
    "#         outlier_percentage = (outlier_count / total_rows) * 100\n",
    "    \n",
    "#         if outlier_percentage <= 5:\n",
    "#             X_train[column] = X_train[column].apply(lambda x: lower_limit if x < lower_limit else (upper_limit if x > upper_limit else x))\n",
    "            \n",
    "#         if outlier_percentage >= 10:\n",
    "#             X_train = X_train[~outliers]\n",
    "#             y_train = y_train[~outliers]\n",
    "    \n",
    "#     return X_train, y_train\n",
    "\n"
   ]
  },
  {
   "cell_type": "code",
   "execution_count": 73,
   "id": "1db93424-1d59-4c2a-9c61-0f035b4f5ef3",
   "metadata": {},
   "outputs": [],
   "source": [
    "# function to treat outlier in each column by caping it to lower_limit to upper_limit\n",
    "def handle_outliers(df):\n",
    "    \"\"\"\n",
    "    handle_outliers(df) function is used to handle outlier in dataset by caping them them to their respctive limit \n",
    "    (lower_limit if value < lower limit | upper_limit if value > upper_limit | else keep as it is).\n",
    "\n",
    "    Parameter:\n",
    "        df- pandas dataframe\n",
    "    \"\"\"\n",
    "    for column in df.select_dtypes(include=['float64', 'int64']).columns:\n",
    "        Q1 = df[column].quantile(0.25)\n",
    "        Q3 = df[column].quantile(0.75)\n",
    "        IQR = Q3 - Q1\n",
    "        lower_limit = Q1 - 1.5 * IQR\n",
    "        upper_limit = Q3 + 1.5 * IQR\n",
    "        \n",
    "        # Identify outliers in X_train column\n",
    "        outliers = (df[column] < lower_limit) | (df[column] > upper_limit)\n",
    "        outlier_count = outliers.sum()\n",
    "        total_rows = len(df)\n",
    "        \n",
    "        # Calculate outlier percentage\n",
    "        outlier_percentage = (outlier_count / total_rows) * 100\n",
    "\n",
    "        df[column] = df[column].apply(lambda x: lower_limit if x < lower_limit else (upper_limit if x > upper_limit else x))\n",
    "    \n"
   ]
  },
  {
   "cell_type": "markdown",
   "id": "ce0aece3-9644-4558-bcfe-3a27c629e498",
   "metadata": {},
   "source": [
    "#### xtrain outlier treatment"
   ]
  },
  {
   "cell_type": "code",
   "execution_count": 75,
   "id": "96fe875b-066b-458f-92a2-0e5f7b145305",
   "metadata": {},
   "outputs": [
    {
     "name": "stdout",
     "output_type": "stream",
     "text": [
      " Numerical Feature (8) : ['AccountID', 'CurrentBalance', 'PurchasePrice', 'NumLiableParties', 'CustomerAge', 'NumPhones', 'NumEmails', 'NumAddresses'] \n",
      "\n",
      " Numerical Feature Index : [1, 2, 3, 8, 9, 10, 11, 12] \n",
      "\n",
      " Categorical Feature (5) : ['OriginalCreditor[Redacted]', 'ProductOrDebtType', 'CollectionStatus', 'InBankruptcy', 'IsLegal']\n",
      "\n",
      " Categorical Feature Index : [0, 4, 5, 6, 7]\n",
      "\n"
     ]
    }
   ],
   "source": [
    "# calculating numerical and categorical column for xtrain.\n",
    "xtrain_numerical_column, xtrain_numerical_column_index, xtrain_categorical_column, xtrain_categorical_column_index = CloumnsByDtype(xtrain)"
   ]
  },
  {
   "cell_type": "code",
   "execution_count": 76,
   "id": "fa92d240-cb4d-493d-a54a-76c10ec79183",
   "metadata": {},
   "outputs": [
    {
     "data": {
      "image/png": "[encoded data removed]",
      "text/plain": [
       "<Figure size 1500x400 with 1 Axes>"
      ]
     },
     "metadata": {},
     "output_type": "display_data"
    }
   ],
   "source": [
    "# displaying outlier in all numerical_column of xtrain\n",
    "plt.figure(figsize=(15,4))\n",
    "xtrain.boxplot(xtrain_numerical_column)\n",
    "plt.show()"
   ]
  },
  {
   "cell_type": "code",
   "execution_count": 77,
   "id": "d0a2058f-6e3f-497d-bae8-edbcfa886e5c",
   "metadata": {},
   "outputs": [
    {
     "name": "stdout",
     "output_type": "stream",
     "text": [
      "Outlier% of  AccountID: 0.0% \n",
      "Outlier% of  CurrentBalance: 10.52% \n",
      "Outlier% of  PurchasePrice: 2.62% \n",
      "Outlier% of  NumLiableParties: 1.7% \n",
      "Outlier% of  CustomerAge: 1.84% \n",
      "Outlier% of  NumPhones: 1.7% \n",
      "Outlier% of  NumEmails: 19.74% \n",
      "Outlier% of  NumAddresses: 22.23% \n"
     ]
    }
   ],
   "source": [
    "# printing outlier% of each column before outlier treatment\n",
    "calculate_outlier_percentage(xtrain)"
   ]
  },
  {
   "cell_type": "code",
   "execution_count": 78,
   "id": "71066669-e098-4d24-84bc-9f2f5cd4f8bc",
   "metadata": {},
   "outputs": [],
   "source": [
    "# handling outlier\n",
    "handle_outliers(xtrain)"
   ]
  },
  {
   "cell_type": "code",
   "execution_count": 79,
   "id": "5e3a099c-7865-4982-86ba-daa7ae5df022",
   "metadata": {},
   "outputs": [
    {
     "name": "stdout",
     "output_type": "stream",
     "text": [
      "Outlier% of  AccountID: 0.0% \n",
      "Outlier% of  CurrentBalance: 0.0% \n",
      "Outlier% of  PurchasePrice: 0.0% \n",
      "Outlier% of  NumLiableParties: 0.0% \n",
      "Outlier% of  CustomerAge: 0.0% \n",
      "Outlier% of  NumPhones: 0.0% \n",
      "Outlier% of  NumEmails: 0.0% \n",
      "Outlier% of  NumAddresses: 0.0% \n"
     ]
    }
   ],
   "source": [
    "# printing outlier% of each column after outlier treatment\n",
    "calculate_outlier_percentage(xtrain)"
   ]
  },
  {
   "cell_type": "code",
   "execution_count": 80,
   "id": "10a61ac4-a55a-4eca-afa5-02ba0d9f6b6f",
   "metadata": {},
   "outputs": [
    {
     "data": {
      "image/png": "[encoded data removed]",
      "text/plain": [
       "<Figure size 1500x400 with 1 Axes>"
      ]
     },
     "metadata": {},
     "output_type": "display_data"
    }
   ],
   "source": [
    "# displaying outlier in all numerical_column of xtrain after outlier treatment\n",
    "plt.figure(figsize=(15,4))\n",
    "xtrain.boxplot(xtrain_numerical_column)\n",
    "plt.show()"
   ]
  },
  {
   "cell_type": "markdown",
   "id": "7e752576-9383-4222-8362-175d261d6204",
   "metadata": {},
   "source": [
    "#### xtest outlier treatment"
   ]
  },
  {
   "cell_type": "code",
   "execution_count": 82,
   "id": "5e47b7b3-9b3c-44d7-a902-4887d333559c",
   "metadata": {},
   "outputs": [
    {
     "name": "stdout",
     "output_type": "stream",
     "text": [
      " Numerical Feature (8) : ['AccountID', 'CurrentBalance', 'PurchasePrice', 'NumLiableParties', 'CustomerAge', 'NumPhones', 'NumEmails', 'NumAddresses'] \n",
      "\n",
      " Numerical Feature Index : [1, 2, 3, 8, 9, 10, 11, 12] \n",
      "\n",
      " Categorical Feature (5) : ['OriginalCreditor[Redacted]', 'ProductOrDebtType', 'CollectionStatus', 'InBankruptcy', 'IsLegal']\n",
      "\n",
      " Categorical Feature Index : [0, 4, 5, 6, 7]\n",
      "\n"
     ]
    }
   ],
   "source": [
    "# calculating numerical and categorical column for xtest.\n",
    "xtest_numerical_column, xtest_numerical_column_index, xtest_categorical_column, xtest_categorical_column_index = CloumnsByDtype(xtest)"
   ]
  },
  {
   "cell_type": "code",
   "execution_count": 83,
   "id": "6ec94f01-310b-4404-ab82-52828364ef0e",
   "metadata": {},
   "outputs": [
    {
     "data": {
      "image/png": "[encoded data removed]",
      "text/plain": [
       "<Figure size 1500x400 with 1 Axes>"
      ]
     },
     "metadata": {},
     "output_type": "display_data"
    }
   ],
   "source": [
    "# displaying outlier in all numerical_column of xtest \n",
    "plt.figure(figsize=(15,4))\n",
    "xtest.boxplot(xtest_numerical_column)\n",
    "plt.show()"
   ]
  },
  {
   "cell_type": "code",
   "execution_count": 84,
   "id": "c48d4b3e-00c2-4359-9404-c0f4deb4472e",
   "metadata": {},
   "outputs": [
    {
     "name": "stdout",
     "output_type": "stream",
     "text": [
      "Outlier% of  AccountID: 0.0% \n",
      "Outlier% of  CurrentBalance: 10.71% \n",
      "Outlier% of  PurchasePrice: 2.67% \n",
      "Outlier% of  NumLiableParties: 1.72% \n",
      "Outlier% of  CustomerAge: 1.84% \n",
      "Outlier% of  NumPhones: 1.7% \n",
      "Outlier% of  NumEmails: 19.58% \n",
      "Outlier% of  NumAddresses: 22.18% \n"
     ]
    }
   ],
   "source": [
    "# printing outlier% of each column before outlier treatment\n",
    "calculate_outlier_percentage(xtest)"
   ]
  },
  {
   "cell_type": "code",
   "execution_count": 85,
   "id": "459497ab-0c21-4220-abad-34e598af1d06",
   "metadata": {},
   "outputs": [],
   "source": [
    "# handling outlier\n",
    "handle_outliers(xtest)"
   ]
  },
  {
   "cell_type": "code",
   "execution_count": 86,
   "id": "698cbae9-6fae-44a4-b42a-050e8cbfd86a",
   "metadata": {},
   "outputs": [
    {
     "name": "stdout",
     "output_type": "stream",
     "text": [
      "Outlier% of  AccountID: 0.0% \n",
      "Outlier% of  CurrentBalance: 0.0% \n",
      "Outlier% of  PurchasePrice: 0.0% \n",
      "Outlier% of  NumLiableParties: 0.0% \n",
      "Outlier% of  CustomerAge: 0.0% \n",
      "Outlier% of  NumPhones: 0.0% \n",
      "Outlier% of  NumEmails: 0.0% \n",
      "Outlier% of  NumAddresses: 0.0% \n"
     ]
    }
   ],
   "source": [
    "# printing outlier% of each column of xtest after outlier treatment\n",
    "calculate_outlier_percentage(xtest)"
   ]
  },
  {
   "cell_type": "code",
   "execution_count": 87,
   "id": "b60af4b4-e874-492c-b86a-b45cde4e8cff",
   "metadata": {},
   "outputs": [
    {
     "data": {
      "image/png": "[encoded data removed]",
      "text/plain": [
       "<Figure size 1500x400 with 1 Axes>"
      ]
     },
     "metadata": {},
     "output_type": "display_data"
    }
   ],
   "source": [
    "# displaying outlier in all numerical_column of xtest after outlier treatment\n",
    "plt.figure(figsize=(15,4))\n",
    "xtest.boxplot(xtest_numerical_column)\n",
    "plt.show()"
   ]
  },
  {
   "cell_type": "markdown",
   "id": "6b4df796-91e3-415c-80b1-6a5f9830b76d",
   "metadata": {},
   "source": [
    "## Data Transformation (Data Encoding)"
   ]
  },
  {
   "cell_type": "code",
   "execution_count": 89,
   "id": "6fded62d-b5c6-48bf-ad5c-4cbc408c0ee5",
   "metadata": {},
   "outputs": [],
   "source": [
    "# creating object of OrdinalEncoder() class\n",
    "ordinal_encoder = OrdinalEncoder(handle_unknown='use_encoded_value', unknown_value=-1)"
   ]
  },
  {
   "cell_type": "markdown",
   "id": "f1572dfa-1847-4c32-a849-9a6cdb543f78",
   "metadata": {},
   "source": [
    "#### Encoding xtrain"
   ]
  },
  {
   "cell_type": "code",
   "execution_count": 91,
   "id": "776d1471-e0b8-4434-b7d0-e0bc6c103007",
   "metadata": {},
   "outputs": [
    {
     "name": "stdout",
     "output_type": "stream",
     "text": [
      " Numerical Feature (8) : ['AccountID', 'CurrentBalance', 'PurchasePrice', 'NumLiableParties', 'CustomerAge', 'NumPhones', 'NumEmails', 'NumAddresses'] \n",
      "\n",
      " Numerical Feature Index : [1, 2, 3, 8, 9, 10, 11, 12] \n",
      "\n",
      " Categorical Feature (5) : ['OriginalCreditor[Redacted]', 'ProductOrDebtType', 'CollectionStatus', 'InBankruptcy', 'IsLegal']\n",
      "\n",
      " Categorical Feature Index : [0, 4, 5, 6, 7]\n",
      "\n"
     ]
    }
   ],
   "source": [
    "# calculating numerical and categorical column for xtrain.\n",
    "xtrain_numerical_column, xtrain_numerical_column_index, xtrain_categorical_column, xtrain_categorical_column_index = CloumnsByDtype(xtrain)"
   ]
  },
  {
   "cell_type": "code",
   "execution_count": 92,
   "id": "600012e5-5156-4b5b-ab1d-4dd8174e5ead",
   "metadata": {},
   "outputs": [
    {
     "name": "stdout",
     "output_type": "stream",
     "text": [
      "OriginalCreditor[Redacted] : 51\n",
      "ProductOrDebtType : 10\n",
      "CollectionStatus : 12\n",
      "InBankruptcy : 2\n",
      "IsLegal : 2\n"
     ]
    }
   ],
   "source": [
    "for col in xtrain_categorical_column:\n",
    "    print(f\"{col} : {xtrain[col].nunique()}\")\n",
    "    "
   ]
  },
  {
   "cell_type": "code",
   "execution_count": 93,
   "id": "45d8c4b0-3ba4-4582-b345-96905cbddc04",
   "metadata": {},
   "outputs": [],
   "source": [
    "# for col in xtrain_categorical_column:\n",
    "#     xtrain[col]= label_encoder.fit_transform(xtrain[col])\n",
    "xtrain[['InBankruptcy', 'IsLegal']]=ordinal_encoder.fit_transform(xtrain[['InBankruptcy', 'IsLegal']])"
   ]
  },
  {
   "cell_type": "code",
   "execution_count": 94,
   "id": "be0b16dc-06ca-4a94-a54c-b4b49bb59adc",
   "metadata": {},
   "outputs": [],
   "source": [
    "one_hot_encoder = ColumnTransformer(\n",
    "    transformers=[\n",
    "        ('categorical',OneHotEncoder(handle_unknown='ignore'), xtrain_categorical_column) ],remainder='passthrough') # Keep other columns as they are"
   ]
  },
  {
   "cell_type": "code",
   "execution_count": 95,
   "id": "97ed0ca8-a66f-4f1a-a4c7-47cfe5f50084",
   "metadata": {},
   "outputs": [
    {
     "data": {
      "text/html": [
       "<div>\n",
       "<style scoped>\n",
       "    .dataframe tbody tr th:only-of-type {\n",
       "        vertical-align: middle;\n",
       "    }\n",
       "\n",
       "    .dataframe tbody tr th {\n",
       "        vertical-align: top;\n",
       "    }\n",
       "\n",
       "    .dataframe thead th {\n",
       "        text-align: right;\n",
       "    }\n",
       "</style>\n",
       "<table border=\"1\" class=\"dataframe\">\n",
       "  <thead>\n",
       "    <tr style=\"text-align: right;\">\n",
       "      <th></th>\n",
       "      <th>OriginalCreditor[Redacted]</th>\n",
       "      <th>AccountID</th>\n",
       "      <th>CurrentBalance</th>\n",
       "      <th>PurchasePrice</th>\n",
       "      <th>ProductOrDebtType</th>\n",
       "      <th>CollectionStatus</th>\n",
       "      <th>InBankruptcy</th>\n",
       "      <th>IsLegal</th>\n",
       "      <th>NumLiableParties</th>\n",
       "      <th>CustomerAge</th>\n",
       "      <th>NumPhones</th>\n",
       "      <th>NumEmails</th>\n",
       "      <th>NumAddresses</th>\n",
       "    </tr>\n",
       "  </thead>\n",
       "  <tbody>\n",
       "    <tr>\n",
       "      <th>275365</th>\n",
       "      <td>Creditor 44</td>\n",
       "      <td>0.999603</td>\n",
       "      <td>0.017172</td>\n",
       "      <td>0.153106</td>\n",
       "      <td>Credit Cards</td>\n",
       "      <td>PAID_IN_FULL</td>\n",
       "      <td>0.0</td>\n",
       "      <td>0.0</td>\n",
       "      <td>0.0</td>\n",
       "      <td>0.365854</td>\n",
       "      <td>0.2500</td>\n",
       "      <td>0.0</td>\n",
       "      <td>0.142857</td>\n",
       "    </tr>\n",
       "    <tr>\n",
       "      <th>43483</th>\n",
       "      <td>Creditor 17</td>\n",
       "      <td>0.030459</td>\n",
       "      <td>0.017206</td>\n",
       "      <td>0.055395</td>\n",
       "      <td>Utilities/Telco - Other</td>\n",
       "      <td>PASSIVE</td>\n",
       "      <td>0.0</td>\n",
       "      <td>0.0</td>\n",
       "      <td>0.0</td>\n",
       "      <td>0.467873</td>\n",
       "      <td>0.0000</td>\n",
       "      <td>0.0</td>\n",
       "      <td>0.142857</td>\n",
       "    </tr>\n",
       "    <tr>\n",
       "      <th>390442</th>\n",
       "      <td>Creditor 49</td>\n",
       "      <td>0.999881</td>\n",
       "      <td>0.018201</td>\n",
       "      <td>0.177342</td>\n",
       "      <td>Finance Company - Other</td>\n",
       "      <td>PASSIVE</td>\n",
       "      <td>1.0</td>\n",
       "      <td>0.0</td>\n",
       "      <td>0.0</td>\n",
       "      <td>0.457317</td>\n",
       "      <td>0.3125</td>\n",
       "      <td>0.0</td>\n",
       "      <td>0.142857</td>\n",
       "    </tr>\n",
       "    <tr>\n",
       "      <th>211215</th>\n",
       "      <td>Creditor 41</td>\n",
       "      <td>0.030752</td>\n",
       "      <td>0.018168</td>\n",
       "      <td>0.031737</td>\n",
       "      <td>Other</td>\n",
       "      <td>ACTIVE</td>\n",
       "      <td>0.0</td>\n",
       "      <td>0.0</td>\n",
       "      <td>0.0</td>\n",
       "      <td>0.560976</td>\n",
       "      <td>0.0000</td>\n",
       "      <td>0.0</td>\n",
       "      <td>0.142857</td>\n",
       "    </tr>\n",
       "    <tr>\n",
       "      <th>128999</th>\n",
       "      <td>Creditor 10</td>\n",
       "      <td>0.030550</td>\n",
       "      <td>0.020063</td>\n",
       "      <td>0.091748</td>\n",
       "      <td>Other</td>\n",
       "      <td>PASSIVE</td>\n",
       "      <td>0.0</td>\n",
       "      <td>0.0</td>\n",
       "      <td>0.0</td>\n",
       "      <td>0.451220</td>\n",
       "      <td>0.0000</td>\n",
       "      <td>0.0</td>\n",
       "      <td>0.142857</td>\n",
       "    </tr>\n",
       "    <tr>\n",
       "      <th>...</th>\n",
       "      <td>...</td>\n",
       "      <td>...</td>\n",
       "      <td>...</td>\n",
       "      <td>...</td>\n",
       "      <td>...</td>\n",
       "      <td>...</td>\n",
       "      <td>...</td>\n",
       "      <td>...</td>\n",
       "      <td>...</td>\n",
       "      <td>...</td>\n",
       "      <td>...</td>\n",
       "      <td>...</td>\n",
       "      <td>...</td>\n",
       "    </tr>\n",
       "    <tr>\n",
       "      <th>81853</th>\n",
       "      <td>Creditor 17</td>\n",
       "      <td>0.030497</td>\n",
       "      <td>0.019025</td>\n",
       "      <td>0.055395</td>\n",
       "      <td>Utilities/Telco - Other</td>\n",
       "      <td>PASSIVE</td>\n",
       "      <td>0.0</td>\n",
       "      <td>0.0</td>\n",
       "      <td>0.0</td>\n",
       "      <td>0.426829</td>\n",
       "      <td>0.0000</td>\n",
       "      <td>0.0</td>\n",
       "      <td>0.142857</td>\n",
       "    </tr>\n",
       "    <tr>\n",
       "      <th>406111</th>\n",
       "      <td>Creditor 50</td>\n",
       "      <td>0.999999</td>\n",
       "      <td>0.018182</td>\n",
       "      <td>0.138296</td>\n",
       "      <td>Finance Company - Other</td>\n",
       "      <td>ACTIVE</td>\n",
       "      <td>0.0</td>\n",
       "      <td>0.0</td>\n",
       "      <td>0.0</td>\n",
       "      <td>0.439024</td>\n",
       "      <td>0.2500</td>\n",
       "      <td>0.0</td>\n",
       "      <td>0.142857</td>\n",
       "    </tr>\n",
       "    <tr>\n",
       "      <th>323104</th>\n",
       "      <td>Creditor 47</td>\n",
       "      <td>0.999709</td>\n",
       "      <td>0.017900</td>\n",
       "      <td>0.040969</td>\n",
       "      <td>Utilities/Telco - Other</td>\n",
       "      <td>ACTIVE</td>\n",
       "      <td>0.0</td>\n",
       "      <td>0.0</td>\n",
       "      <td>0.0</td>\n",
       "      <td>0.530488</td>\n",
       "      <td>0.0000</td>\n",
       "      <td>0.0</td>\n",
       "      <td>0.142857</td>\n",
       "    </tr>\n",
       "    <tr>\n",
       "      <th>399228</th>\n",
       "      <td>Creditor 50</td>\n",
       "      <td>0.999965</td>\n",
       "      <td>0.019365</td>\n",
       "      <td>0.138296</td>\n",
       "      <td>Finance Company - Other</td>\n",
       "      <td>ACTIVE</td>\n",
       "      <td>0.0</td>\n",
       "      <td>0.0</td>\n",
       "      <td>0.0</td>\n",
       "      <td>0.353659</td>\n",
       "      <td>0.0000</td>\n",
       "      <td>0.0</td>\n",
       "      <td>0.142857</td>\n",
       "    </tr>\n",
       "    <tr>\n",
       "      <th>399774</th>\n",
       "      <td>Creditor 50</td>\n",
       "      <td>0.999968</td>\n",
       "      <td>0.023329</td>\n",
       "      <td>0.138296</td>\n",
       "      <td>Finance Company - Other</td>\n",
       "      <td>ACTIVE</td>\n",
       "      <td>0.0</td>\n",
       "      <td>0.0</td>\n",
       "      <td>0.0</td>\n",
       "      <td>0.384146</td>\n",
       "      <td>0.0000</td>\n",
       "      <td>0.0</td>\n",
       "      <td>0.142857</td>\n",
       "    </tr>\n",
       "  </tbody>\n",
       "</table>\n",
       "<p>325138 rows × 13 columns</p>\n",
       "</div>"
      ],
      "text/plain": [
       "       OriginalCreditor[Redacted]  AccountID  CurrentBalance  PurchasePrice  \\\n",
       "275365                Creditor 44   0.999603        0.017172       0.153106   \n",
       "43483                 Creditor 17   0.030459        0.017206       0.055395   \n",
       "390442                Creditor 49   0.999881        0.018201       0.177342   \n",
       "211215                Creditor 41   0.030752        0.018168       0.031737   \n",
       "128999                Creditor 10   0.030550        0.020063       0.091748   \n",
       "...                           ...        ...             ...            ...   \n",
       "81853                 Creditor 17   0.030497        0.019025       0.055395   \n",
       "406111                Creditor 50   0.999999        0.018182       0.138296   \n",
       "323104                Creditor 47   0.999709        0.017900       0.040969   \n",
       "399228                Creditor 50   0.999965        0.019365       0.138296   \n",
       "399774                Creditor 50   0.999968        0.023329       0.138296   \n",
       "\n",
       "              ProductOrDebtType CollectionStatus  InBankruptcy  IsLegal  \\\n",
       "275365             Credit Cards     PAID_IN_FULL           0.0      0.0   \n",
       "43483   Utilities/Telco - Other          PASSIVE           0.0      0.0   \n",
       "390442  Finance Company - Other          PASSIVE           1.0      0.0   \n",
       "211215                    Other           ACTIVE           0.0      0.0   \n",
       "128999                    Other          PASSIVE           0.0      0.0   \n",
       "...                         ...              ...           ...      ...   \n",
       "81853   Utilities/Telco - Other          PASSIVE           0.0      0.0   \n",
       "406111  Finance Company - Other           ACTIVE           0.0      0.0   \n",
       "323104  Utilities/Telco - Other           ACTIVE           0.0      0.0   \n",
       "399228  Finance Company - Other           ACTIVE           0.0      0.0   \n",
       "399774  Finance Company - Other           ACTIVE           0.0      0.0   \n",
       "\n",
       "        NumLiableParties  CustomerAge  NumPhones  NumEmails  NumAddresses  \n",
       "275365               0.0     0.365854     0.2500        0.0      0.142857  \n",
       "43483                0.0     0.467873     0.0000        0.0      0.142857  \n",
       "390442               0.0     0.457317     0.3125        0.0      0.142857  \n",
       "211215               0.0     0.560976     0.0000        0.0      0.142857  \n",
       "128999               0.0     0.451220     0.0000        0.0      0.142857  \n",
       "...                  ...          ...        ...        ...           ...  \n",
       "81853                0.0     0.426829     0.0000        0.0      0.142857  \n",
       "406111               0.0     0.439024     0.2500        0.0      0.142857  \n",
       "323104               0.0     0.530488     0.0000        0.0      0.142857  \n",
       "399228               0.0     0.353659     0.0000        0.0      0.142857  \n",
       "399774               0.0     0.384146     0.0000        0.0      0.142857  \n",
       "\n",
       "[325138 rows x 13 columns]"
      ]
     },
     "execution_count": 95,
     "metadata": {},
     "output_type": "execute_result"
    }
   ],
   "source": [
    "xtrain"
   ]
  },
  {
   "cell_type": "code",
   "execution_count": 96,
   "id": "d7b1e9f9-9829-4df8-9976-dfcc0adb632f",
   "metadata": {},
   "outputs": [
    {
     "data": {
      "text/html": [
       "<div>\n",
       "<style scoped>\n",
       "    .dataframe tbody tr th:only-of-type {\n",
       "        vertical-align: middle;\n",
       "    }\n",
       "\n",
       "    .dataframe tbody tr th {\n",
       "        vertical-align: top;\n",
       "    }\n",
       "\n",
       "    .dataframe thead th {\n",
       "        text-align: right;\n",
       "    }\n",
       "</style>\n",
       "<table border=\"1\" class=\"dataframe\">\n",
       "  <thead>\n",
       "    <tr style=\"text-align: right;\">\n",
       "      <th></th>\n",
       "      <th>OriginalCreditor[Redacted]</th>\n",
       "      <th>AccountID</th>\n",
       "      <th>CurrentBalance</th>\n",
       "      <th>PurchasePrice</th>\n",
       "      <th>ProductOrDebtType</th>\n",
       "      <th>CollectionStatus</th>\n",
       "      <th>InBankruptcy</th>\n",
       "      <th>IsLegal</th>\n",
       "      <th>NumLiableParties</th>\n",
       "      <th>CustomerAge</th>\n",
       "      <th>NumPhones</th>\n",
       "      <th>NumEmails</th>\n",
       "      <th>NumAddresses</th>\n",
       "    </tr>\n",
       "  </thead>\n",
       "  <tbody>\n",
       "    <tr>\n",
       "      <th>84128</th>\n",
       "      <td>Creditor 17</td>\n",
       "      <td>0.030500</td>\n",
       "      <td>0.022038</td>\n",
       "      <td>0.055395</td>\n",
       "      <td>Utilities/Telco - Other</td>\n",
       "      <td>PASSIVE</td>\n",
       "      <td>N</td>\n",
       "      <td>N</td>\n",
       "      <td>0.0</td>\n",
       "      <td>0.467778</td>\n",
       "      <td>0.000</td>\n",
       "      <td>0.0</td>\n",
       "      <td>0.142857</td>\n",
       "    </tr>\n",
       "    <tr>\n",
       "      <th>62672</th>\n",
       "      <td>Creditor 17</td>\n",
       "      <td>0.030478</td>\n",
       "      <td>0.017545</td>\n",
       "      <td>0.055395</td>\n",
       "      <td>Utilities/Telco - Other</td>\n",
       "      <td>PASSIVE</td>\n",
       "      <td>N</td>\n",
       "      <td>N</td>\n",
       "      <td>0.0</td>\n",
       "      <td>0.463415</td>\n",
       "      <td>0.000</td>\n",
       "      <td>0.0</td>\n",
       "      <td>0.142857</td>\n",
       "    </tr>\n",
       "    <tr>\n",
       "      <th>319606</th>\n",
       "      <td>Creditor 47</td>\n",
       "      <td>0.999705</td>\n",
       "      <td>0.017714</td>\n",
       "      <td>0.040969</td>\n",
       "      <td>Utilities/Telco - Other</td>\n",
       "      <td>ACTIVE</td>\n",
       "      <td>N</td>\n",
       "      <td>N</td>\n",
       "      <td>0.0</td>\n",
       "      <td>0.402439</td>\n",
       "      <td>0.000</td>\n",
       "      <td>0.0</td>\n",
       "      <td>0.142857</td>\n",
       "    </tr>\n",
       "    <tr>\n",
       "      <th>119250</th>\n",
       "      <td>Creditor 17</td>\n",
       "      <td>0.030535</td>\n",
       "      <td>0.018121</td>\n",
       "      <td>0.055395</td>\n",
       "      <td>Utilities/Telco - Other</td>\n",
       "      <td>PASSIVE</td>\n",
       "      <td>N</td>\n",
       "      <td>N</td>\n",
       "      <td>0.0</td>\n",
       "      <td>0.402439</td>\n",
       "      <td>0.000</td>\n",
       "      <td>0.0</td>\n",
       "      <td>0.142857</td>\n",
       "    </tr>\n",
       "    <tr>\n",
       "      <th>102815</th>\n",
       "      <td>Creditor 17</td>\n",
       "      <td>0.030519</td>\n",
       "      <td>0.017863</td>\n",
       "      <td>0.055395</td>\n",
       "      <td>Utilities/Telco - Other</td>\n",
       "      <td>PASSIVE</td>\n",
       "      <td>N</td>\n",
       "      <td>N</td>\n",
       "      <td>0.0</td>\n",
       "      <td>0.420732</td>\n",
       "      <td>0.000</td>\n",
       "      <td>0.0</td>\n",
       "      <td>0.142857</td>\n",
       "    </tr>\n",
       "    <tr>\n",
       "      <th>...</th>\n",
       "      <td>...</td>\n",
       "      <td>...</td>\n",
       "      <td>...</td>\n",
       "      <td>...</td>\n",
       "      <td>...</td>\n",
       "      <td>...</td>\n",
       "      <td>...</td>\n",
       "      <td>...</td>\n",
       "      <td>...</td>\n",
       "      <td>...</td>\n",
       "      <td>...</td>\n",
       "      <td>...</td>\n",
       "      <td>...</td>\n",
       "    </tr>\n",
       "    <tr>\n",
       "      <th>289242</th>\n",
       "      <td>Creditor 44</td>\n",
       "      <td>0.999671</td>\n",
       "      <td>0.020141</td>\n",
       "      <td>0.099058</td>\n",
       "      <td>Bank - Other</td>\n",
       "      <td>ACTIVE</td>\n",
       "      <td>N</td>\n",
       "      <td>N</td>\n",
       "      <td>0.0</td>\n",
       "      <td>0.384146</td>\n",
       "      <td>0.000</td>\n",
       "      <td>0.0</td>\n",
       "      <td>0.142857</td>\n",
       "    </tr>\n",
       "    <tr>\n",
       "      <th>172280</th>\n",
       "      <td>Creditor 33</td>\n",
       "      <td>0.030670</td>\n",
       "      <td>0.017851</td>\n",
       "      <td>0.065590</td>\n",
       "      <td>Utilities/Telco - Other</td>\n",
       "      <td>ACTIVE</td>\n",
       "      <td>N</td>\n",
       "      <td>N</td>\n",
       "      <td>0.0</td>\n",
       "      <td>0.420732</td>\n",
       "      <td>0.125</td>\n",
       "      <td>0.0</td>\n",
       "      <td>0.142857</td>\n",
       "    </tr>\n",
       "    <tr>\n",
       "      <th>295685</th>\n",
       "      <td>Creditor 47</td>\n",
       "      <td>0.999681</td>\n",
       "      <td>0.017465</td>\n",
       "      <td>0.040969</td>\n",
       "      <td>Utilities/Telco - Other</td>\n",
       "      <td>ACTIVE</td>\n",
       "      <td>N</td>\n",
       "      <td>N</td>\n",
       "      <td>0.0</td>\n",
       "      <td>0.591463</td>\n",
       "      <td>0.125</td>\n",
       "      <td>0.0</td>\n",
       "      <td>0.142857</td>\n",
       "    </tr>\n",
       "    <tr>\n",
       "      <th>273349</th>\n",
       "      <td>Creditor 19</td>\n",
       "      <td>0.999586</td>\n",
       "      <td>0.023371</td>\n",
       "      <td>0.138296</td>\n",
       "      <td>Finance Company - Other</td>\n",
       "      <td>ACTIVE</td>\n",
       "      <td>N</td>\n",
       "      <td>N</td>\n",
       "      <td>0.0</td>\n",
       "      <td>0.579268</td>\n",
       "      <td>0.000</td>\n",
       "      <td>0.0</td>\n",
       "      <td>0.142857</td>\n",
       "    </tr>\n",
       "    <tr>\n",
       "      <th>402861</th>\n",
       "      <td>Creditor 50</td>\n",
       "      <td>0.999982</td>\n",
       "      <td>0.023371</td>\n",
       "      <td>0.138296</td>\n",
       "      <td>Finance Company - Other</td>\n",
       "      <td>ACTIVE</td>\n",
       "      <td>N</td>\n",
       "      <td>N</td>\n",
       "      <td>0.0</td>\n",
       "      <td>0.365854</td>\n",
       "      <td>0.125</td>\n",
       "      <td>0.0</td>\n",
       "      <td>0.142857</td>\n",
       "    </tr>\n",
       "  </tbody>\n",
       "</table>\n",
       "<p>81285 rows × 13 columns</p>\n",
       "</div>"
      ],
      "text/plain": [
       "       OriginalCreditor[Redacted]  AccountID  CurrentBalance  PurchasePrice  \\\n",
       "84128                 Creditor 17   0.030500        0.022038       0.055395   \n",
       "62672                 Creditor 17   0.030478        0.017545       0.055395   \n",
       "319606                Creditor 47   0.999705        0.017714       0.040969   \n",
       "119250                Creditor 17   0.030535        0.018121       0.055395   \n",
       "102815                Creditor 17   0.030519        0.017863       0.055395   \n",
       "...                           ...        ...             ...            ...   \n",
       "289242                Creditor 44   0.999671        0.020141       0.099058   \n",
       "172280                Creditor 33   0.030670        0.017851       0.065590   \n",
       "295685                Creditor 47   0.999681        0.017465       0.040969   \n",
       "273349                Creditor 19   0.999586        0.023371       0.138296   \n",
       "402861                Creditor 50   0.999982        0.023371       0.138296   \n",
       "\n",
       "              ProductOrDebtType CollectionStatus InBankruptcy IsLegal  \\\n",
       "84128   Utilities/Telco - Other          PASSIVE            N       N   \n",
       "62672   Utilities/Telco - Other          PASSIVE            N       N   \n",
       "319606  Utilities/Telco - Other           ACTIVE            N       N   \n",
       "119250  Utilities/Telco - Other          PASSIVE            N       N   \n",
       "102815  Utilities/Telco - Other          PASSIVE            N       N   \n",
       "...                         ...              ...          ...     ...   \n",
       "289242             Bank - Other           ACTIVE            N       N   \n",
       "172280  Utilities/Telco - Other           ACTIVE            N       N   \n",
       "295685  Utilities/Telco - Other           ACTIVE            N       N   \n",
       "273349  Finance Company - Other           ACTIVE            N       N   \n",
       "402861  Finance Company - Other           ACTIVE            N       N   \n",
       "\n",
       "        NumLiableParties  CustomerAge  NumPhones  NumEmails  NumAddresses  \n",
       "84128                0.0     0.467778      0.000        0.0      0.142857  \n",
       "62672                0.0     0.463415      0.000        0.0      0.142857  \n",
       "319606               0.0     0.402439      0.000        0.0      0.142857  \n",
       "119250               0.0     0.402439      0.000        0.0      0.142857  \n",
       "102815               0.0     0.420732      0.000        0.0      0.142857  \n",
       "...                  ...          ...        ...        ...           ...  \n",
       "289242               0.0     0.384146      0.000        0.0      0.142857  \n",
       "172280               0.0     0.420732      0.125        0.0      0.142857  \n",
       "295685               0.0     0.591463      0.125        0.0      0.142857  \n",
       "273349               0.0     0.579268      0.000        0.0      0.142857  \n",
       "402861               0.0     0.365854      0.125        0.0      0.142857  \n",
       "\n",
       "[81285 rows x 13 columns]"
      ]
     },
     "execution_count": 96,
     "metadata": {},
     "output_type": "execute_result"
    }
   ],
   "source": [
    "xtest"
   ]
  },
  {
   "cell_type": "markdown",
   "id": "30f5fc07-7c53-4d27-b047-8d8430e9e382",
   "metadata": {},
   "source": [
    "## Model Building (using Pipeline) & Evaluation"
   ]
  },
  {
   "cell_type": "code",
   "execution_count": 98,
   "id": "06511441-cb13-4064-9ff9-e9cfa08d42ed",
   "metadata": {},
   "outputs": [],
   "source": [
    "# lists to store accuracy of all model\n",
    "model_list = []\n",
    "accuracy = []\n",
    "precision = []\n",
    "recall = []\n",
    "F1_score = []\n",
    "auc_roc = []"
   ]
  },
  {
   "cell_type": "code",
   "execution_count": 99,
   "id": "f3375753-f634-4935-85a1-c72200184191",
   "metadata": {},
   "outputs": [],
   "source": [
    "def evaluate_model(true, predicted):\n",
    "    \"\"\"\n",
    "    evaluate_model(true, predicted) is a function which calculate and return evaluation metrics(Accuracy, Precision, Recall, F1_Score, AUC(ROC)) of\n",
    "    Ml classification model.\n",
    "\n",
    "    Parameter:\n",
    "        true- original Target value of each row. \n",
    "        predicted- predicted value of each row by ML model.\n",
    "\n",
    "    Return:\n",
    "     acc- accuracy of model.\n",
    "     f1- f1 score of model.\n",
    "     pre- precision of model.\n",
    "     recall- recall of model.\n",
    "     auc- area under the curve of roc(Receiver Operating Characteristic) curve.\n",
    "    \"\"\"\n",
    "    acc = accuracy_score(true, predicted)\n",
    "    f1 = f1_score(true, predicted)   \n",
    "    pre = precision_score(true, predicted)   \n",
    "    recall = recall_score(true, predicted) \n",
    "    auc = roc_auc_score(true, predicted)  \n",
    "    \n",
    "    return round(acc*100,2), round(f1*100,2), round(pre*100,2), round(recall*100,2), round(auc,2)"
   ]
  },
  {
   "cell_type": "code",
   "execution_count": 100,
   "id": "612b3903-206f-4101-b19f-2f0dd620094d",
   "metadata": {},
   "outputs": [],
   "source": [
    "\n",
    "def build_evaluate(pipeline, model):\n",
    "    \"\"\"\n",
    "    build_evaluate(pipeline, model) is function which fits the model and do prediction and then evaluate the model by \n",
    "    calling evaluate_model(true, predicted) function.\n",
    "    \n",
    "    Parameter:\n",
    "        pipeline- pipline having final estimator(ml model).\n",
    "        model- string which contains name of estimitor(ml model) in final step of pipeline.\n",
    "    \"\"\"\n",
    "    pipeline.fit(xtrain, ytrain) # training the model\n",
    "\n",
    "     # make training prediction\n",
    "    ytrain_pred = pipeline.predict(xtrain)\n",
    "        \n",
    "    # make testing prediction\n",
    "    ytest_pred = pipeline.predict(xtest)\n",
    "\n",
    "    # calling evaluate model function to evaluate performance of our training data.\n",
    "    train_accuracy, train_f1_score, train_precision, train_recall, train_auc = evaluate_model(ytrain, ytrain_pred)\n",
    "        \n",
    "    # calling evaluate model function to evaluate performance of our testing data.\n",
    "    test_accuracy, test_f1_score, test_precision, test_recall, test_auc = evaluate_model(ytest, ytest_pred)\n",
    "    \n",
    "    model_list.append(model)\n",
    "    accuracy.append(test_accuracy)\n",
    "    precision.append(test_precision)\n",
    "    recall.append(test_recall)\n",
    "    F1_score.append(test_f1_score)\n",
    "    auc_roc.append(test_auc)\n",
    "\n",
    "    print(model,':')\n",
    "    print(\"Model performance for Training & Testing Set\")\n",
    "    print(f\"- Training Accuracy: {train_accuracy} | Testing Accuracy: {test_accuracy} \")\n",
    "    print(f\"- Training f1 score: {train_f1_score} | Testing f1 score: {test_f1_score} \")        \n",
    "    print(f\"- Training Precision score: {train_precision} | Testing Precision Score: {test_precision}\")        \n",
    "    print(f\"- Training Recall: {train_recall} | Testing Recall: {test_recall} \" )        \n",
    "    print(f\"- Training AUC: {train_auc} | Testing AUC: {test_auc} \")\n",
    "        "
   ]
  },
  {
   "cell_type": "markdown",
   "id": "2c72050e-9473-41e5-985e-a14749b42726",
   "metadata": {},
   "source": [
    "### Logistic Regression"
   ]
  },
  {
   "cell_type": "code",
   "execution_count": 102,
   "id": "69caf65f-e22c-4a2e-95ce-acd4fd4db2c2",
   "metadata": {},
   "outputs": [
    {
     "name": "stdout",
     "output_type": "stream",
     "text": [
      "LogisticRegression :\n",
      "Model performance for Training & Testing Set\n",
      "- Training Accuracy: 96.35 | Testing Accuracy: 95.79 \n",
      "- Training f1 score: 97.42 | Testing f1 score: 97.06 \n",
      "- Training Precision score: 96.37 | Testing Precision Score: 95.14\n",
      "- Training Recall: 98.49 | Testing Recall: 99.06 \n",
      "- Training AUC: 0.95 | Testing AUC: 0.94 \n"
     ]
    }
   ],
   "source": [
    "logistic_regression_pipeline = Pipeline(steps=[ ('OneHotEncoder', one_hot_encoder),\n",
    "                                   (\"LogisticRegression\",LogisticRegression())])\n",
    "\n",
    "build_evaluate(logistic_regression_pipeline,\"LogisticRegression\" )"
   ]
  },
  {
   "cell_type": "markdown",
   "id": "b806329c-09aa-4b3a-b349-673e800813cd",
   "metadata": {},
   "source": [
    "### Decision Tree"
   ]
  },
  {
   "cell_type": "code",
   "execution_count": 104,
   "id": "0b058d4e-ee1f-4eec-a09a-e6eae91bb86c",
   "metadata": {},
   "outputs": [
    {
     "name": "stdout",
     "output_type": "stream",
     "text": [
      "Decision Tree :\n",
      "Model performance for Training & Testing Set\n",
      "- Training Accuracy: 99.85 | Testing Accuracy: 94.06 \n",
      "- Training f1 score: 99.89 | Testing f1 score: 95.76 \n",
      "- Training Precision score: 99.94 | Testing Precision Score: 95.91\n",
      "- Training Recall: 99.85 | Testing Recall: 95.6 \n",
      "- Training AUC: 1.0 | Testing AUC: 0.93 \n"
     ]
    }
   ],
   "source": [
    "decision_tree_pipeline = Pipeline(steps=[ ('OneHotEncoder', one_hot_encoder),\n",
    "                                   (\"Decision Tree\", DecisionTreeClassifier())])\n",
    "\n",
    "\n",
    "build_evaluate(decision_tree_pipeline, \"Decision Tree\")"
   ]
  },
  {
   "cell_type": "markdown",
   "id": "c3ac852f-4117-49aa-9a42-b4819a8a5b17",
   "metadata": {},
   "source": [
    "### Random Forest"
   ]
  },
  {
   "cell_type": "code",
   "execution_count": 106,
   "id": "483a6210-5460-4dd0-a4eb-2e4382c7991f",
   "metadata": {},
   "outputs": [
    {
     "name": "stdout",
     "output_type": "stream",
     "text": [
      "Random Forest :\n",
      "Model performance for Training & Testing Set\n",
      "- Training Accuracy: 99.1 | Testing Accuracy: 96.65 \n",
      "- Training f1 score: 99.36 | Testing f1 score: 97.63 \n",
      "- Training Precision score: 98.87 | Testing Precision Score: 97.13\n",
      "- Training Recall: 99.85 | Testing Recall: 98.13 \n",
      "- Training AUC: 0.99 | Testing AUC: 0.96 \n"
     ]
    }
   ],
   "source": [
    "random_forest_pipeline = Pipeline(steps=[ ('OneHotEncoder', one_hot_encoder),\n",
    "                                   (\"Random Forest\", RandomForestClassifier())])\n",
    "\n",
    "\n",
    "build_evaluate(random_forest_pipeline, \"Random Forest\")"
   ]
  },
  {
   "cell_type": "markdown",
   "id": "15a6426f-3d2e-4c61-8d05-d3365a500d4e",
   "metadata": {},
   "source": [
    "### Naive Bayes"
   ]
  },
  {
   "cell_type": "code",
   "execution_count": 108,
   "id": "807231aa-8e11-4a4b-bc7a-963f2065cf3a",
   "metadata": {},
   "outputs": [
    {
     "name": "stdout",
     "output_type": "stream",
     "text": [
      "Naive Bayes :\n",
      "Model performance for Training & Testing Set\n",
      "- Training Accuracy: 93.78 | Testing Accuracy: 89.05 \n",
      "- Training f1 score: 95.5 | Testing f1 score: 91.7 \n",
      "- Training Precision score: 96.63 | Testing Precision Score: 97.94\n",
      "- Training Recall: 94.4 | Testing Recall: 86.2 \n",
      "- Training AUC: 0.93 | Testing AUC: 0.91 \n"
     ]
    }
   ],
   "source": [
    "naive_bayes_pipeline = Pipeline(steps=[ ('OneHotEncoder', one_hot_encoder),\n",
    "                                   (\"Naive Bayes\",BernoulliNB())])\n",
    "\n",
    "build_evaluate(naive_bayes_pipeline, \"Naive Bayes\")"
   ]
  },
  {
   "cell_type": "markdown",
   "id": "ece5ac19-3d9d-4b86-9e24-888d27cf7b30",
   "metadata": {},
   "source": [
    "### AdaBoost"
   ]
  },
  {
   "cell_type": "code",
   "execution_count": 110,
   "id": "49ea1a81-a375-4228-8c94-b25bcb2376cc",
   "metadata": {},
   "outputs": [
    {
     "name": "stdout",
     "output_type": "stream",
     "text": [
      "AdaBoost :\n",
      "Model performance for Training & Testing Set\n",
      "- Training Accuracy: 96.58 | Testing Accuracy: 96.29 \n",
      "- Training f1 score: 97.58 | Testing f1 score: 97.41 \n",
      "- Training Precision score: 96.57 | Testing Precision Score: 95.62\n",
      "- Training Recall: 98.61 | Testing Recall: 99.26 \n",
      "- Training AUC: 0.95 | Testing AUC: 0.94 \n"
     ]
    }
   ],
   "source": [
    "adaboost_pipeline = Pipeline(steps=[ ('OneHotEncoder', one_hot_encoder),\n",
    "                                   (\"AdaBoost\",AdaBoostClassifier())])\n",
    "\n",
    "build_evaluate(adaboost_pipeline, \"AdaBoost\")"
   ]
  },
  {
   "cell_type": "markdown",
   "id": "7075231c-dc03-4f57-8231-281bbf151a2e",
   "metadata": {},
   "source": [
    "### GradientBoosting"
   ]
  },
  {
   "cell_type": "code",
   "execution_count": 112,
   "id": "cee4d5c9-556e-4cf2-9edf-bb1b8e1ced31",
   "metadata": {},
   "outputs": [
    {
     "name": "stdout",
     "output_type": "stream",
     "text": [
      "Gradient Boosting :\n",
      "Model performance for Training & Testing Set\n",
      "- Training Accuracy: 96.87 | Testing Accuracy: 96.36 \n",
      "- Training f1 score: 97.79 | Testing f1 score: 97.41 \n",
      "- Training Precision score: 96.91 | Testing Precision Score: 97.09\n",
      "- Training Recall: 98.68 | Testing Recall: 97.74 \n",
      "- Training AUC: 0.96 | Testing AUC: 0.95 \n"
     ]
    }
   ],
   "source": [
    "gradientboost_pipeline = Pipeline(steps=[ ('OneHotEncoder', one_hot_encoder),\n",
    "                                   (\"Gradient Boosting\",GradientBoostingClassifier())])\n",
    "\n",
    "build_evaluate(gradientboost_pipeline, \"Gradient Boosting\")"
   ]
  },
  {
   "cell_type": "markdown",
   "id": "9fbea58e-8d8b-4241-8715-07c334ba983f",
   "metadata": {},
   "source": [
    "### KNN classifier"
   ]
  },
  {
   "cell_type": "code",
   "execution_count": 114,
   "id": "5824d2b5-d7fd-40fa-8447-71b272cfd890",
   "metadata": {},
   "outputs": [],
   "source": [
    "# knn_pipeline = Pipeline(steps=[ ('OneHotEncoder', one_hot_encoder),\n",
    "#                                    (\"KNN Classifier\",KNeighborsClassifier())])\n",
    "\n",
    "# build_evaluate(knn_pipeline, \"KNN Classifier\")"
   ]
  },
  {
   "cell_type": "markdown",
   "id": "c9e69ca3-a49c-491d-91ab-33967f29a529",
   "metadata": {},
   "source": [
    "### Compairson of Model (Report)"
   ]
  },
  {
   "cell_type": "code",
   "execution_count": 116,
   "id": "cca968b9-266e-47dc-998d-814f705a7d77",
   "metadata": {},
   "outputs": [
    {
     "data": {
      "text/html": [
       "<div>\n",
       "<style scoped>\n",
       "    .dataframe tbody tr th:only-of-type {\n",
       "        vertical-align: middle;\n",
       "    }\n",
       "\n",
       "    .dataframe tbody tr th {\n",
       "        vertical-align: top;\n",
       "    }\n",
       "\n",
       "    .dataframe thead th {\n",
       "        text-align: right;\n",
       "    }\n",
       "</style>\n",
       "<table border=\"1\" class=\"dataframe\">\n",
       "  <thead>\n",
       "    <tr style=\"text-align: right;\">\n",
       "      <th></th>\n",
       "      <th>Model</th>\n",
       "      <th>Accuracy</th>\n",
       "      <th>Precision</th>\n",
       "      <th>Recall</th>\n",
       "      <th>F1 Score</th>\n",
       "      <th>AUC-ROC</th>\n",
       "    </tr>\n",
       "  </thead>\n",
       "  <tbody>\n",
       "    <tr>\n",
       "      <th>2</th>\n",
       "      <td>Random Forest</td>\n",
       "      <td>96.65</td>\n",
       "      <td>97.13</td>\n",
       "      <td>98.13</td>\n",
       "      <td>97.63</td>\n",
       "      <td>0.96</td>\n",
       "    </tr>\n",
       "    <tr>\n",
       "      <th>5</th>\n",
       "      <td>Gradient Boosting</td>\n",
       "      <td>96.36</td>\n",
       "      <td>97.09</td>\n",
       "      <td>97.74</td>\n",
       "      <td>97.41</td>\n",
       "      <td>0.95</td>\n",
       "    </tr>\n",
       "    <tr>\n",
       "      <th>4</th>\n",
       "      <td>AdaBoost</td>\n",
       "      <td>96.29</td>\n",
       "      <td>95.62</td>\n",
       "      <td>99.26</td>\n",
       "      <td>97.41</td>\n",
       "      <td>0.94</td>\n",
       "    </tr>\n",
       "    <tr>\n",
       "      <th>0</th>\n",
       "      <td>LogisticRegression</td>\n",
       "      <td>95.79</td>\n",
       "      <td>95.14</td>\n",
       "      <td>99.06</td>\n",
       "      <td>97.06</td>\n",
       "      <td>0.94</td>\n",
       "    </tr>\n",
       "    <tr>\n",
       "      <th>1</th>\n",
       "      <td>Decision Tree</td>\n",
       "      <td>94.06</td>\n",
       "      <td>95.91</td>\n",
       "      <td>95.60</td>\n",
       "      <td>95.76</td>\n",
       "      <td>0.93</td>\n",
       "    </tr>\n",
       "    <tr>\n",
       "      <th>3</th>\n",
       "      <td>Naive Bayes</td>\n",
       "      <td>89.05</td>\n",
       "      <td>97.94</td>\n",
       "      <td>86.20</td>\n",
       "      <td>91.70</td>\n",
       "      <td>0.91</td>\n",
       "    </tr>\n",
       "  </tbody>\n",
       "</table>\n",
       "</div>"
      ],
      "text/plain": [
       "                Model  Accuracy  Precision  Recall  F1 Score  AUC-ROC\n",
       "2       Random Forest     96.65      97.13   98.13     97.63     0.96\n",
       "5   Gradient Boosting     96.36      97.09   97.74     97.41     0.95\n",
       "4            AdaBoost     96.29      95.62   99.26     97.41     0.94\n",
       "0  LogisticRegression     95.79      95.14   99.06     97.06     0.94\n",
       "1       Decision Tree     94.06      95.91   95.60     95.76     0.93\n",
       "3         Naive Bayes     89.05      97.94   86.20     91.70     0.91"
      ]
     },
     "execution_count": 116,
     "metadata": {},
     "output_type": "execute_result"
    }
   ],
   "source": [
    "# Model Report\n",
    "report = pd.DataFrame({\"Model\":model_list, \n",
    "                           \"Accuracy\": accuracy, \n",
    "                           \"Precision\": precision, \n",
    "                           \"Recall\":recall,\n",
    "                           \"F1 Score\": F1_score,\n",
    "                           \"AUC-ROC\":auc_roc}).sort_values(by=[\"Accuracy\"],ascending=False)\n",
    "\n",
    "report"
   ]
  },
  {
   "cell_type": "markdown",
   "id": "270e96c8-5c1e-4483-94f4-ccb448f2b181",
   "metadata": {},
   "source": [
    "# Best Model\n"
   ]
  },
  {
   "cell_type": "code",
   "execution_count": 118,
   "id": "6c29bf2d-45de-44b3-a8c0-1809581ab3ce",
   "metadata": {},
   "outputs": [
    {
     "data": {
      "text/html": [
       "<style>#sk-container-id-1 {\n",
       "  /* Definition of color scheme common for light and dark mode */\n",
       "  --sklearn-color-text: black;\n",
       "  --sklearn-color-line: gray;\n",
       "  /* Definition of color scheme for unfitted estimators */\n",
       "  --sklearn-color-unfitted-level-0: #fff5e6;\n",
       "  --sklearn-color-unfitted-level-1: #f6e4d2;\n",
       "  --sklearn-color-unfitted-level-2: #ffe0b3;\n",
       "  --sklearn-color-unfitted-level-3: chocolate;\n",
       "  /* Definition of color scheme for fitted estimators */\n",
       "  --sklearn-color-fitted-level-0: #f0f8ff;\n",
       "  --sklearn-color-fitted-level-1: #d4ebff;\n",
       "  --sklearn-color-fitted-level-2: #b3dbfd;\n",
       "  --sklearn-color-fitted-level-3: cornflowerblue;\n",
       "\n",
       "  /* Specific color for light theme */\n",
       "  --sklearn-color-text-on-default-background: var(--sg-text-color, var(--theme-code-foreground, var(--jp-content-font-color1, black)));\n",
       "  --sklearn-color-background: var(--sg-background-color, var(--theme-background, var(--jp-layout-color0, white)));\n",
       "  --sklearn-color-border-box: var(--sg-text-color, var(--theme-code-foreground, var(--jp-content-font-color1, black)));\n",
       "  --sklearn-color-icon: #696969;\n",
       "\n",
       "  @media (prefers-color-scheme: dark) {\n",
       "    /* Redefinition of color scheme for dark theme */\n",
       "    --sklearn-color-text-on-default-background: var(--sg-text-color, var(--theme-code-foreground, var(--jp-content-font-color1, white)));\n",
       "    --sklearn-color-background: var(--sg-background-color, var(--theme-background, var(--jp-layout-color0, #111)));\n",
       "    --sklearn-color-border-box: var(--sg-text-color, var(--theme-code-foreground, var(--jp-content-font-color1, white)));\n",
       "    --sklearn-color-icon: #878787;\n",
       "  }\n",
       "}\n",
       "\n",
       "#sk-container-id-1 {\n",
       "  color: var(--sklearn-color-text);\n",
       "}\n",
       "\n",
       "#sk-container-id-1 pre {\n",
       "  padding: 0;\n",
       "}\n",
       "\n",
       "#sk-container-id-1 input.sk-hidden--visually {\n",
       "  border: 0;\n",
       "  clip: rect(1px 1px 1px 1px);\n",
       "  clip: rect(1px, 1px, 1px, 1px);\n",
       "  height: 1px;\n",
       "  margin: -1px;\n",
       "  overflow: hidden;\n",
       "  padding: 0;\n",
       "  position: absolute;\n",
       "  width: 1px;\n",
       "}\n",
       "\n",
       "#sk-container-id-1 div.sk-dashed-wrapped {\n",
       "  border: 1px dashed var(--sklearn-color-line);\n",
       "  margin: 0 0.4em 0.5em 0.4em;\n",
       "  box-sizing: border-box;\n",
       "  padding-bottom: 0.4em;\n",
       "  background-color: var(--sklearn-color-background);\n",
       "}\n",
       "\n",
       "#sk-container-id-1 div.sk-container {\n",
       "  /* jupyter's `normalize.less` sets `[hidden] { display: none; }`\n",
       "     but bootstrap.min.css set `[hidden] { display: none !important; }`\n",
       "     so we also need the `!important` here to be able to override the\n",
       "     default hidden behavior on the sphinx rendered scikit-learn.org.\n",
       "     See: https://github.com/scikit-learn/scikit-learn/issues/21755 */\n",
       "  display: inline-block !important;\n",
       "  position: relative;\n",
       "}\n",
       "\n",
       "#sk-container-id-1 div.sk-text-repr-fallback {\n",
       "  display: none;\n",
       "}\n",
       "\n",
       "div.sk-parallel-item,\n",
       "div.sk-serial,\n",
       "div.sk-item {\n",
       "  /* draw centered vertical line to link estimators */\n",
       "  background-image: linear-gradient(var(--sklearn-color-text-on-default-background), var(--sklearn-color-text-on-default-background));\n",
       "  background-size: 2px 100%;\n",
       "  background-repeat: no-repeat;\n",
       "  background-position: center center;\n",
       "}\n",
       "\n",
       "/* Parallel-specific style estimator block */\n",
       "\n",
       "#sk-container-id-1 div.sk-parallel-item::after {\n",
       "  content: \"\";\n",
       "  width: 100%;\n",
       "  border-bottom: 2px solid var(--sklearn-color-text-on-default-background);\n",
       "  flex-grow: 1;\n",
       "}\n",
       "\n",
       "#sk-container-id-1 div.sk-parallel {\n",
       "  display: flex;\n",
       "  align-items: stretch;\n",
       "  justify-content: center;\n",
       "  background-color: var(--sklearn-color-background);\n",
       "  position: relative;\n",
       "}\n",
       "\n",
       "#sk-container-id-1 div.sk-parallel-item {\n",
       "  display: flex;\n",
       "  flex-direction: column;\n",
       "}\n",
       "\n",
       "#sk-container-id-1 div.sk-parallel-item:first-child::after {\n",
       "  align-self: flex-end;\n",
       "  width: 50%;\n",
       "}\n",
       "\n",
       "#sk-container-id-1 div.sk-parallel-item:last-child::after {\n",
       "  align-self: flex-start;\n",
       "  width: 50%;\n",
       "}\n",
       "\n",
       "#sk-container-id-1 div.sk-parallel-item:only-child::after {\n",
       "  width: 0;\n",
       "}\n",
       "\n",
       "/* Serial-specific style estimator block */\n",
       "\n",
       "#sk-container-id-1 div.sk-serial {\n",
       "  display: flex;\n",
       "  flex-direction: column;\n",
       "  align-items: center;\n",
       "  background-color: var(--sklearn-color-background);\n",
       "  padding-right: 1em;\n",
       "  padding-left: 1em;\n",
       "}\n",
       "\n",
       "\n",
       "/* Toggleable style: style used for estimator/Pipeline/ColumnTransformer box that is\n",
       "clickable and can be expanded/collapsed.\n",
       "- Pipeline and ColumnTransformer use this feature and define the default style\n",
       "- Estimators will overwrite some part of the style using the `sk-estimator` class\n",
       "*/\n",
       "\n",
       "/* Pipeline and ColumnTransformer style (default) */\n",
       "\n",
       "#sk-container-id-1 div.sk-toggleable {\n",
       "  /* Default theme specific background. It is overwritten whether we have a\n",
       "  specific estimator or a Pipeline/ColumnTransformer */\n",
       "  background-color: var(--sklearn-color-background);\n",
       "}\n",
       "\n",
       "/* Toggleable label */\n",
       "#sk-container-id-1 label.sk-toggleable__label {\n",
       "  cursor: pointer;\n",
       "  display: block;\n",
       "  width: 100%;\n",
       "  margin-bottom: 0;\n",
       "  padding: 0.5em;\n",
       "  box-sizing: border-box;\n",
       "  text-align: center;\n",
       "}\n",
       "\n",
       "#sk-container-id-1 label.sk-toggleable__label-arrow:before {\n",
       "  /* Arrow on the left of the label */\n",
       "  content: \"▸\";\n",
       "  float: left;\n",
       "  margin-right: 0.25em;\n",
       "  color: var(--sklearn-color-icon);\n",
       "}\n",
       "\n",
       "#sk-container-id-1 label.sk-toggleable__label-arrow:hover:before {\n",
       "  color: var(--sklearn-color-text);\n",
       "}\n",
       "\n",
       "/* Toggleable content - dropdown */\n",
       "\n",
       "#sk-container-id-1 div.sk-toggleable__content {\n",
       "  max-height: 0;\n",
       "  max-width: 0;\n",
       "  overflow: hidden;\n",
       "  text-align: left;\n",
       "  /* unfitted */\n",
       "  background-color: var(--sklearn-color-unfitted-level-0);\n",
       "}\n",
       "\n",
       "#sk-container-id-1 div.sk-toggleable__content.fitted {\n",
       "  /* fitted */\n",
       "  background-color: var(--sklearn-color-fitted-level-0);\n",
       "}\n",
       "\n",
       "#sk-container-id-1 div.sk-toggleable__content pre {\n",
       "  margin: 0.2em;\n",
       "  border-radius: 0.25em;\n",
       "  color: var(--sklearn-color-text);\n",
       "  /* unfitted */\n",
       "  background-color: var(--sklearn-color-unfitted-level-0);\n",
       "}\n",
       "\n",
       "#sk-container-id-1 div.sk-toggleable__content.fitted pre {\n",
       "  /* unfitted */\n",
       "  background-color: var(--sklearn-color-fitted-level-0);\n",
       "}\n",
       "\n",
       "#sk-container-id-1 input.sk-toggleable__control:checked~div.sk-toggleable__content {\n",
       "  /* Expand drop-down */\n",
       "  max-height: 200px;\n",
       "  max-width: 100%;\n",
       "  overflow: auto;\n",
       "}\n",
       "\n",
       "#sk-container-id-1 input.sk-toggleable__control:checked~label.sk-toggleable__label-arrow:before {\n",
       "  content: \"▾\";\n",
       "}\n",
       "\n",
       "/* Pipeline/ColumnTransformer-specific style */\n",
       "\n",
       "#sk-container-id-1 div.sk-label input.sk-toggleable__control:checked~label.sk-toggleable__label {\n",
       "  color: var(--sklearn-color-text);\n",
       "  background-color: var(--sklearn-color-unfitted-level-2);\n",
       "}\n",
       "\n",
       "#sk-container-id-1 div.sk-label.fitted input.sk-toggleable__control:checked~label.sk-toggleable__label {\n",
       "  background-color: var(--sklearn-color-fitted-level-2);\n",
       "}\n",
       "\n",
       "/* Estimator-specific style */\n",
       "\n",
       "/* Colorize estimator box */\n",
       "#sk-container-id-1 div.sk-estimator input.sk-toggleable__control:checked~label.sk-toggleable__label {\n",
       "  /* unfitted */\n",
       "  background-color: var(--sklearn-color-unfitted-level-2);\n",
       "}\n",
       "\n",
       "#sk-container-id-1 div.sk-estimator.fitted input.sk-toggleable__control:checked~label.sk-toggleable__label {\n",
       "  /* fitted */\n",
       "  background-color: var(--sklearn-color-fitted-level-2);\n",
       "}\n",
       "\n",
       "#sk-container-id-1 div.sk-label label.sk-toggleable__label,\n",
       "#sk-container-id-1 div.sk-label label {\n",
       "  /* The background is the default theme color */\n",
       "  color: var(--sklearn-color-text-on-default-background);\n",
       "}\n",
       "\n",
       "/* On hover, darken the color of the background */\n",
       "#sk-container-id-1 div.sk-label:hover label.sk-toggleable__label {\n",
       "  color: var(--sklearn-color-text);\n",
       "  background-color: var(--sklearn-color-unfitted-level-2);\n",
       "}\n",
       "\n",
       "/* Label box, darken color on hover, fitted */\n",
       "#sk-container-id-1 div.sk-label.fitted:hover label.sk-toggleable__label.fitted {\n",
       "  color: var(--sklearn-color-text);\n",
       "  background-color: var(--sklearn-color-fitted-level-2);\n",
       "}\n",
       "\n",
       "/* Estimator label */\n",
       "\n",
       "#sk-container-id-1 div.sk-label label {\n",
       "  font-family: monospace;\n",
       "  font-weight: bold;\n",
       "  display: inline-block;\n",
       "  line-height: 1.2em;\n",
       "}\n",
       "\n",
       "#sk-container-id-1 div.sk-label-container {\n",
       "  text-align: center;\n",
       "}\n",
       "\n",
       "/* Estimator-specific */\n",
       "#sk-container-id-1 div.sk-estimator {\n",
       "  font-family: monospace;\n",
       "  border: 1px dotted var(--sklearn-color-border-box);\n",
       "  border-radius: 0.25em;\n",
       "  box-sizing: border-box;\n",
       "  margin-bottom: 0.5em;\n",
       "  /* unfitted */\n",
       "  background-color: var(--sklearn-color-unfitted-level-0);\n",
       "}\n",
       "\n",
       "#sk-container-id-1 div.sk-estimator.fitted {\n",
       "  /* fitted */\n",
       "  background-color: var(--sklearn-color-fitted-level-0);\n",
       "}\n",
       "\n",
       "/* on hover */\n",
       "#sk-container-id-1 div.sk-estimator:hover {\n",
       "  /* unfitted */\n",
       "  background-color: var(--sklearn-color-unfitted-level-2);\n",
       "}\n",
       "\n",
       "#sk-container-id-1 div.sk-estimator.fitted:hover {\n",
       "  /* fitted */\n",
       "  background-color: var(--sklearn-color-fitted-level-2);\n",
       "}\n",
       "\n",
       "/* Specification for estimator info (e.g. \"i\" and \"?\") */\n",
       "\n",
       "/* Common style for \"i\" and \"?\" */\n",
       "\n",
       ".sk-estimator-doc-link,\n",
       "a:link.sk-estimator-doc-link,\n",
       "a:visited.sk-estimator-doc-link {\n",
       "  float: right;\n",
       "  font-size: smaller;\n",
       "  line-height: 1em;\n",
       "  font-family: monospace;\n",
       "  background-color: var(--sklearn-color-background);\n",
       "  border-radius: 1em;\n",
       "  height: 1em;\n",
       "  width: 1em;\n",
       "  text-decoration: none !important;\n",
       "  margin-left: 1ex;\n",
       "  /* unfitted */\n",
       "  border: var(--sklearn-color-unfitted-level-1) 1pt solid;\n",
       "  color: var(--sklearn-color-unfitted-level-1);\n",
       "}\n",
       "\n",
       ".sk-estimator-doc-link.fitted,\n",
       "a:link.sk-estimator-doc-link.fitted,\n",
       "a:visited.sk-estimator-doc-link.fitted {\n",
       "  /* fitted */\n",
       "  border: var(--sklearn-color-fitted-level-1) 1pt solid;\n",
       "  color: var(--sklearn-color-fitted-level-1);\n",
       "}\n",
       "\n",
       "/* On hover */\n",
       "div.sk-estimator:hover .sk-estimator-doc-link:hover,\n",
       ".sk-estimator-doc-link:hover,\n",
       "div.sk-label-container:hover .sk-estimator-doc-link:hover,\n",
       ".sk-estimator-doc-link:hover {\n",
       "  /* unfitted */\n",
       "  background-color: var(--sklearn-color-unfitted-level-3);\n",
       "  color: var(--sklearn-color-background);\n",
       "  text-decoration: none;\n",
       "}\n",
       "\n",
       "div.sk-estimator.fitted:hover .sk-estimator-doc-link.fitted:hover,\n",
       ".sk-estimator-doc-link.fitted:hover,\n",
       "div.sk-label-container:hover .sk-estimator-doc-link.fitted:hover,\n",
       ".sk-estimator-doc-link.fitted:hover {\n",
       "  /* fitted */\n",
       "  background-color: var(--sklearn-color-fitted-level-3);\n",
       "  color: var(--sklearn-color-background);\n",
       "  text-decoration: none;\n",
       "}\n",
       "\n",
       "/* Span, style for the box shown on hovering the info icon */\n",
       ".sk-estimator-doc-link span {\n",
       "  display: none;\n",
       "  z-index: 9999;\n",
       "  position: relative;\n",
       "  font-weight: normal;\n",
       "  right: .2ex;\n",
       "  padding: .5ex;\n",
       "  margin: .5ex;\n",
       "  width: min-content;\n",
       "  min-width: 20ex;\n",
       "  max-width: 50ex;\n",
       "  color: var(--sklearn-color-text);\n",
       "  box-shadow: 2pt 2pt 4pt #999;\n",
       "  /* unfitted */\n",
       "  background: var(--sklearn-color-unfitted-level-0);\n",
       "  border: .5pt solid var(--sklearn-color-unfitted-level-3);\n",
       "}\n",
       "\n",
       ".sk-estimator-doc-link.fitted span {\n",
       "  /* fitted */\n",
       "  background: var(--sklearn-color-fitted-level-0);\n",
       "  border: var(--sklearn-color-fitted-level-3);\n",
       "}\n",
       "\n",
       ".sk-estimator-doc-link:hover span {\n",
       "  display: block;\n",
       "}\n",
       "\n",
       "/* \"?\"-specific style due to the `<a>` HTML tag */\n",
       "\n",
       "#sk-container-id-1 a.estimator_doc_link {\n",
       "  float: right;\n",
       "  font-size: 1rem;\n",
       "  line-height: 1em;\n",
       "  font-family: monospace;\n",
       "  background-color: var(--sklearn-color-background);\n",
       "  border-radius: 1rem;\n",
       "  height: 1rem;\n",
       "  width: 1rem;\n",
       "  text-decoration: none;\n",
       "  /* unfitted */\n",
       "  color: var(--sklearn-color-unfitted-level-1);\n",
       "  border: var(--sklearn-color-unfitted-level-1) 1pt solid;\n",
       "}\n",
       "\n",
       "#sk-container-id-1 a.estimator_doc_link.fitted {\n",
       "  /* fitted */\n",
       "  border: var(--sklearn-color-fitted-level-1) 1pt solid;\n",
       "  color: var(--sklearn-color-fitted-level-1);\n",
       "}\n",
       "\n",
       "/* On hover */\n",
       "#sk-container-id-1 a.estimator_doc_link:hover {\n",
       "  /* unfitted */\n",
       "  background-color: var(--sklearn-color-unfitted-level-3);\n",
       "  color: var(--sklearn-color-background);\n",
       "  text-decoration: none;\n",
       "}\n",
       "\n",
       "#sk-container-id-1 a.estimator_doc_link.fitted:hover {\n",
       "  /* fitted */\n",
       "  background-color: var(--sklearn-color-fitted-level-3);\n",
       "}\n",
       "</style><div id=\"sk-container-id-1\" class=\"sk-top-container\"><div class=\"sk-text-repr-fallback\"><pre>Pipeline(steps=[(&#x27;OneHotEncoder&#x27;,\n",
       "                 ColumnTransformer(remainder=&#x27;passthrough&#x27;,\n",
       "                                   transformers=[(&#x27;categorical&#x27;,\n",
       "                                                  OneHotEncoder(handle_unknown=&#x27;ignore&#x27;),\n",
       "                                                  [&#x27;OriginalCreditor[Redacted]&#x27;,\n",
       "                                                   &#x27;ProductOrDebtType&#x27;,\n",
       "                                                   &#x27;CollectionStatus&#x27;,\n",
       "                                                   &#x27;InBankruptcy&#x27;,\n",
       "                                                   &#x27;IsLegal&#x27;])])),\n",
       "                (&#x27;Random Forest&#x27;, RandomForestClassifier())])</pre><b>In a Jupyter environment, please rerun this cell to show the HTML representation or trust the notebook. <br />On GitHub, the HTML representation is unable to render, please try loading this page with nbviewer.org.</b></div><div class=\"sk-container\" hidden><div class=\"sk-item sk-dashed-wrapped\"><div class=\"sk-label-container\"><div class=\"sk-label fitted sk-toggleable\"><input class=\"sk-toggleable__control sk-hidden--visually\" id=\"sk-estimator-id-1\" type=\"checkbox\" ><label for=\"sk-estimator-id-1\" class=\"sk-toggleable__label fitted sk-toggleable__label-arrow fitted\">&nbsp;&nbsp;Pipeline<a class=\"sk-estimator-doc-link fitted\" rel=\"noreferrer\" target=\"_blank\" href=\"https://scikit-learn.org/1.4/modules/generated/sklearn.pipeline.Pipeline.html\">?<span>Documentation for Pipeline</span></a><span class=\"sk-estimator-doc-link fitted\">i<span>Fitted</span></span></label><div class=\"sk-toggleable__content fitted\"><pre>Pipeline(steps=[(&#x27;OneHotEncoder&#x27;,\n",
       "                 ColumnTransformer(remainder=&#x27;passthrough&#x27;,\n",
       "                                   transformers=[(&#x27;categorical&#x27;,\n",
       "                                                  OneHotEncoder(handle_unknown=&#x27;ignore&#x27;),\n",
       "                                                  [&#x27;OriginalCreditor[Redacted]&#x27;,\n",
       "                                                   &#x27;ProductOrDebtType&#x27;,\n",
       "                                                   &#x27;CollectionStatus&#x27;,\n",
       "                                                   &#x27;InBankruptcy&#x27;,\n",
       "                                                   &#x27;IsLegal&#x27;])])),\n",
       "                (&#x27;Random Forest&#x27;, RandomForestClassifier())])</pre></div> </div></div><div class=\"sk-serial\"><div class=\"sk-item sk-dashed-wrapped\"><div class=\"sk-label-container\"><div class=\"sk-label fitted sk-toggleable\"><input class=\"sk-toggleable__control sk-hidden--visually\" id=\"sk-estimator-id-2\" type=\"checkbox\" ><label for=\"sk-estimator-id-2\" class=\"sk-toggleable__label fitted sk-toggleable__label-arrow fitted\">&nbsp;OneHotEncoder: ColumnTransformer<a class=\"sk-estimator-doc-link fitted\" rel=\"noreferrer\" target=\"_blank\" href=\"https://scikit-learn.org/1.4/modules/generated/sklearn.compose.ColumnTransformer.html\">?<span>Documentation for OneHotEncoder: ColumnTransformer</span></a></label><div class=\"sk-toggleable__content fitted\"><pre>ColumnTransformer(remainder=&#x27;passthrough&#x27;,\n",
       "                  transformers=[(&#x27;categorical&#x27;,\n",
       "                                 OneHotEncoder(handle_unknown=&#x27;ignore&#x27;),\n",
       "                                 [&#x27;OriginalCreditor[Redacted]&#x27;,\n",
       "                                  &#x27;ProductOrDebtType&#x27;, &#x27;CollectionStatus&#x27;,\n",
       "                                  &#x27;InBankruptcy&#x27;, &#x27;IsLegal&#x27;])])</pre></div> </div></div><div class=\"sk-parallel\"><div class=\"sk-parallel-item\"><div class=\"sk-item\"><div class=\"sk-label-container\"><div class=\"sk-label fitted sk-toggleable\"><input class=\"sk-toggleable__control sk-hidden--visually\" id=\"sk-estimator-id-3\" type=\"checkbox\" ><label for=\"sk-estimator-id-3\" class=\"sk-toggleable__label fitted sk-toggleable__label-arrow fitted\">categorical</label><div class=\"sk-toggleable__content fitted\"><pre>[&#x27;OriginalCreditor[Redacted]&#x27;, &#x27;ProductOrDebtType&#x27;, &#x27;CollectionStatus&#x27;, &#x27;InBankruptcy&#x27;, &#x27;IsLegal&#x27;]</pre></div> </div></div><div class=\"sk-serial\"><div class=\"sk-item\"><div class=\"sk-estimator fitted sk-toggleable\"><input class=\"sk-toggleable__control sk-hidden--visually\" id=\"sk-estimator-id-4\" type=\"checkbox\" ><label for=\"sk-estimator-id-4\" class=\"sk-toggleable__label fitted sk-toggleable__label-arrow fitted\">&nbsp;OneHotEncoder<a class=\"sk-estimator-doc-link fitted\" rel=\"noreferrer\" target=\"_blank\" href=\"https://scikit-learn.org/1.4/modules/generated/sklearn.preprocessing.OneHotEncoder.html\">?<span>Documentation for OneHotEncoder</span></a></label><div class=\"sk-toggleable__content fitted\"><pre>OneHotEncoder(handle_unknown=&#x27;ignore&#x27;)</pre></div> </div></div></div></div></div><div class=\"sk-parallel-item\"><div class=\"sk-item\"><div class=\"sk-label-container\"><div class=\"sk-label fitted sk-toggleable\"><input class=\"sk-toggleable__control sk-hidden--visually\" id=\"sk-estimator-id-5\" type=\"checkbox\" ><label for=\"sk-estimator-id-5\" class=\"sk-toggleable__label fitted sk-toggleable__label-arrow fitted\">remainder</label><div class=\"sk-toggleable__content fitted\"><pre>[&#x27;AccountID&#x27;, &#x27;CurrentBalance&#x27;, &#x27;PurchasePrice&#x27;, &#x27;NumLiableParties&#x27;, &#x27;CustomerAge&#x27;, &#x27;NumPhones&#x27;, &#x27;NumEmails&#x27;, &#x27;NumAddresses&#x27;]</pre></div> </div></div><div class=\"sk-serial\"><div class=\"sk-item\"><div class=\"sk-estimator fitted sk-toggleable\"><input class=\"sk-toggleable__control sk-hidden--visually\" id=\"sk-estimator-id-6\" type=\"checkbox\" ><label for=\"sk-estimator-id-6\" class=\"sk-toggleable__label fitted sk-toggleable__label-arrow fitted\">passthrough</label><div class=\"sk-toggleable__content fitted\"><pre>passthrough</pre></div> </div></div></div></div></div></div></div><div class=\"sk-item\"><div class=\"sk-estimator fitted sk-toggleable\"><input class=\"sk-toggleable__control sk-hidden--visually\" id=\"sk-estimator-id-7\" type=\"checkbox\" ><label for=\"sk-estimator-id-7\" class=\"sk-toggleable__label fitted sk-toggleable__label-arrow fitted\">&nbsp;RandomForestClassifier<a class=\"sk-estimator-doc-link fitted\" rel=\"noreferrer\" target=\"_blank\" href=\"https://scikit-learn.org/1.4/modules/generated/sklearn.ensemble.RandomForestClassifier.html\">?<span>Documentation for RandomForestClassifier</span></a></label><div class=\"sk-toggleable__content fitted\"><pre>RandomForestClassifier()</pre></div> </div></div></div></div></div></div>"
      ],
      "text/plain": [
       "Pipeline(steps=[('OneHotEncoder',\n",
       "                 ColumnTransformer(remainder='passthrough',\n",
       "                                   transformers=[('categorical',\n",
       "                                                  OneHotEncoder(handle_unknown='ignore'),\n",
       "                                                  ['OriginalCreditor[Redacted]',\n",
       "                                                   'ProductOrDebtType',\n",
       "                                                   'CollectionStatus',\n",
       "                                                   'InBankruptcy',\n",
       "                                                   'IsLegal'])])),\n",
       "                ('Random Forest', RandomForestClassifier())])"
      ]
     },
     "execution_count": 118,
     "metadata": {},
     "output_type": "execute_result"
    }
   ],
   "source": [
    "random_forest_pipeline.fit(xtrain, ytrain)"
   ]
  },
  {
   "cell_type": "code",
   "execution_count": 119,
   "id": "ea5e1855-83fb-47c9-ae02-137b5926fe94",
   "metadata": {},
   "outputs": [
    {
     "data": {
      "text/plain": [
       "array([1, 1, 1, ..., 1, 1, 0], dtype=int64)"
      ]
     },
     "execution_count": 119,
     "metadata": {},
     "output_type": "execute_result"
    }
   ],
   "source": [
    "ytrain_pred = random_forest_pipeline.predict(xtrain)\n",
    "ytest_pred = random_forest_pipeline.predict(xtest)\n",
    "ytest_pred"
   ]
  },
  {
   "cell_type": "markdown",
   "id": "b37f0330-35f5-4256-ab04-1d16235611a7",
   "metadata": {},
   "source": [
    "#### Train and Test evaluation metrices"
   ]
  },
  {
   "cell_type": "code",
   "execution_count": 121,
   "id": "79949065-820a-41c8-9827-dd708fc32471",
   "metadata": {},
   "outputs": [
    {
     "name": "stdout",
     "output_type": "stream",
     "text": [
      "Model performance for Training and Testing Set: \n",
      "- Training Accuracy: 99.1 | Testing Accuracy: 96.62 \n",
      "- Training f1 score: 99.36 | Testing f1 score: 97.6 \n",
      "- Training Precision score: 98.88 | Testing Precision Score: 97.18\n",
      "- Training Recall: 99.84 | Testing Recall: 98.03 \n",
      "- Training ROC: 0.99 | Testing ROC: 0.96 \n"
     ]
    }
   ],
   "source": [
    "# calling evaluate model function to evaluate performance of our training data.\n",
    "train_accuracy, train_f1_score, train_precision, train_recall, train_auc = evaluate_model(ytrain, ytrain_pred)\n",
    "\n",
    "# calling evaluate model function to evaluate performance of our testing data.\n",
    "test_accuracy, test_f1_score, test_precision, test_recall, test_auc = evaluate_model(ytest, ytest_pred)\n",
    "\n",
    "print(\"Model performance for Training and Testing Set: \")\n",
    "print(f\"- Training Accuracy: {train_accuracy} | Testing Accuracy: {test_accuracy} \")\n",
    "print(f\"- Training f1 score: {train_f1_score} | Testing f1 score: {test_f1_score} \")        \n",
    "print(f\"- Training Precision score: {train_precision} | Testing Precision Score: {test_precision}\")        \n",
    "print(f\"- Training Recall: {train_recall} | Testing Recall: {test_recall} \" )        \n",
    "print(f\"- Training ROC: {train_auc} | Testing ROC: {test_auc} \")"
   ]
  },
  {
   "cell_type": "code",
   "execution_count": 122,
   "id": "5a76e4ae-024b-4ff7-b1fa-1e7eaf811d01",
   "metadata": {},
   "outputs": [
    {
     "data": {
      "text/plain": [
       "array([[ 95044,   2578],\n",
       "       [   364, 227152]], dtype=int64)"
      ]
     },
     "execution_count": 122,
     "metadata": {},
     "output_type": "execute_result"
    }
   ],
   "source": [
    "# Training Confusion matrix\n",
    "train_confusion_matrix = confusion_matrix(ytrain, ytrain_pred)\n",
    "train_confusion_matrix"
   ]
  },
  {
   "cell_type": "code",
   "execution_count": 123,
   "id": "832a8cfc-c551-4fbd-b9bb-67fbdea9bb0d",
   "metadata": {},
   "outputs": [
    {
     "data": {
      "text/plain": [
       "array([[22631,  1622],\n",
       "       [ 1126, 55906]], dtype=int64)"
      ]
     },
     "execution_count": 123,
     "metadata": {},
     "output_type": "execute_result"
    }
   ],
   "source": [
    "# Testing Confusion matrix\n",
    "test_confusion_matrix = confusion_matrix(ytest, ytest_pred)\n",
    "test_confusion_matrix"
   ]
  },
  {
   "cell_type": "markdown",
   "id": "89780615-22f2-4923-8a30-2ccb5b2cfd15",
   "metadata": {},
   "source": [
    "#### AUC of ROC"
   ]
  },
  {
   "cell_type": "code",
   "execution_count": 125,
   "id": "b3c1fa17-fdbc-40a4-9b54-b90373332684",
   "metadata": {},
   "outputs": [
    {
     "data": {
      "image/png": "[encoded data removed]",
      "text/plain": [
       "<Figure size 800x400 with 1 Axes>"
      ]
     },
     "metadata": {},
     "output_type": "display_data"
    }
   ],
   "source": [
    "ytest_pred_prob = random_forest_pipeline.predict_proba(xtest)[::,1]  \n",
    "# .predict_proba() gives probability of prediction of both class 0 and 1 as two col ,in which we need only col 1 (class 1 probability) \n",
    "fpr,tpr, _ = roc_curve(ytest, ytest_pred_prob)\n",
    "\n",
    "plt.figure(figsize=(8,4))\n",
    "plt.plot(fpr,tpr,label=\"Random Forest AUC = \"+ str(test_auc))\n",
    "plt.plot([0,1], [0,1], color='black', lw=1, linestyle='--')\n",
    "plt.legend(loc=4)\n",
    "plt.title(\"Receiver Operating Characteristic Curve (ROC)\")\n",
    "plt.xlabel(\"FPR ---->\")\n",
    "plt.ylabel(\"TPR ---->\")\n",
    "plt.show()"
   ]
  }
 ],
 "metadata": {
  "kernelspec": {
   "display_name": "Python 3 (ipykernel)",
   "language": "python",
   "name": "python3"
  },
  "language_info": {
   "codemirror_mode": {
    "name": "ipython",
    "version": 3
   },
   "file_extension": ".py",
   "mimetype": "text/x-python",
   "name": "python",
   "nbconvert_exporter": "python",
   "pygments_lexer": "ipython3",
   "version": "3.12.4"
  }
 },
 "nbformat": 4,
 "nbformat_minor": 5
}
